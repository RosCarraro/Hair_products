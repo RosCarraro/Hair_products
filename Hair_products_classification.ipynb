{
 "cells": [
  {
   "cell_type": "markdown",
   "metadata": {},
   "source": [
    "# Figuring out Skala's hair products\n",
    "Thanks to the Skala products I've recently discovered the world of hair treatments, the _curly girl method_, and many ways to style your hair. These products caught my attention because they are visually very appealing, but there are so many of them and they are a jungle to figure out, as the main thing that can be noticed is the pot colors and nice images shown on the labels.\n",
    "\n",
    "Inspired by an online tutorial I decided to dig into Skala's hair products with NLP and see if I could understand these products better.\n",
    "I am going to create a content-based recommendation system where the 'content' will be the chemical components of cosmetics, or ingredients. Specifically, I will process ingredient lists for all Skala hair products via [word embedding](https://en.wikipedia.org/wiki/Word_embedding), and then visualize ingredient similarity using a machine learning method called t-SNE and Bokeh.\n",
    "\n",
    "[![Skala_masks](./Images/skala_products.jpg)](https://www.olx.com.co/item/tratamiento-y-crema-de-peinar-marca-skala--iid-1111236615)\n",
    "\n",
    "First of all I'm importing everything I need, from the fundamental numpy and pandas, to all the bokeh packages required to make some nice interactive plot and of course t-SNE"
   ]
  },
  {
   "cell_type": "code",
   "execution_count": 1,
   "metadata": {},
   "outputs": [
    {
     "data": {
      "text/html": [
       "\n",
       "    <div class=\"bk-root\">\n",
       "        <a href=\"https://bokeh.org\" target=\"_blank\" class=\"bk-logo bk-logo-small bk-logo-notebook\"></a>\n",
       "        <span id=\"1002\">Loading BokehJS ...</span>\n",
       "    </div>"
      ]
     },
     "metadata": {},
     "output_type": "display_data"
    },
    {
     "data": {
      "application/javascript": [
       "\n",
       "(function(root) {\n",
       "  function now() {\n",
       "    return new Date();\n",
       "  }\n",
       "\n",
       "  const force = true;\n",
       "\n",
       "  if (typeof root._bokeh_onload_callbacks === \"undefined\" || force === true) {\n",
       "    root._bokeh_onload_callbacks = [];\n",
       "    root._bokeh_is_loading = undefined;\n",
       "  }\n",
       "\n",
       "  const JS_MIME_TYPE = 'application/javascript';\n",
       "  const HTML_MIME_TYPE = 'text/html';\n",
       "  const EXEC_MIME_TYPE = 'application/vnd.bokehjs_exec.v0+json';\n",
       "  const CLASS_NAME = 'output_bokeh rendered_html';\n",
       "\n",
       "  /**\n",
       "   * Render data to the DOM node\n",
       "   */\n",
       "  function render(props, node) {\n",
       "    const script = document.createElement(\"script\");\n",
       "    node.appendChild(script);\n",
       "  }\n",
       "\n",
       "  /**\n",
       "   * Handle when an output is cleared or removed\n",
       "   */\n",
       "  function handleClearOutput(event, handle) {\n",
       "    const cell = handle.cell;\n",
       "\n",
       "    const id = cell.output_area._bokeh_element_id;\n",
       "    const server_id = cell.output_area._bokeh_server_id;\n",
       "    // Clean up Bokeh references\n",
       "    if (id != null && id in Bokeh.index) {\n",
       "      Bokeh.index[id].model.document.clear();\n",
       "      delete Bokeh.index[id];\n",
       "    }\n",
       "\n",
       "    if (server_id !== undefined) {\n",
       "      // Clean up Bokeh references\n",
       "      const cmd_clean = \"from bokeh.io.state import curstate; print(curstate().uuid_to_server['\" + server_id + \"'].get_sessions()[0].document.roots[0]._id)\";\n",
       "      cell.notebook.kernel.execute(cmd_clean, {\n",
       "        iopub: {\n",
       "          output: function(msg) {\n",
       "            const id = msg.content.text.trim();\n",
       "            if (id in Bokeh.index) {\n",
       "              Bokeh.index[id].model.document.clear();\n",
       "              delete Bokeh.index[id];\n",
       "            }\n",
       "          }\n",
       "        }\n",
       "      });\n",
       "      // Destroy server and session\n",
       "      const cmd_destroy = \"import bokeh.io.notebook as ion; ion.destroy_server('\" + server_id + \"')\";\n",
       "      cell.notebook.kernel.execute(cmd_destroy);\n",
       "    }\n",
       "  }\n",
       "\n",
       "  /**\n",
       "   * Handle when a new output is added\n",
       "   */\n",
       "  function handleAddOutput(event, handle) {\n",
       "    const output_area = handle.output_area;\n",
       "    const output = handle.output;\n",
       "\n",
       "    // limit handleAddOutput to display_data with EXEC_MIME_TYPE content only\n",
       "    if ((output.output_type != \"display_data\") || (!Object.prototype.hasOwnProperty.call(output.data, EXEC_MIME_TYPE))) {\n",
       "      return\n",
       "    }\n",
       "\n",
       "    const toinsert = output_area.element.find(\".\" + CLASS_NAME.split(' ')[0]);\n",
       "\n",
       "    if (output.metadata[EXEC_MIME_TYPE][\"id\"] !== undefined) {\n",
       "      toinsert[toinsert.length - 1].firstChild.textContent = output.data[JS_MIME_TYPE];\n",
       "      // store reference to embed id on output_area\n",
       "      output_area._bokeh_element_id = output.metadata[EXEC_MIME_TYPE][\"id\"];\n",
       "    }\n",
       "    if (output.metadata[EXEC_MIME_TYPE][\"server_id\"] !== undefined) {\n",
       "      const bk_div = document.createElement(\"div\");\n",
       "      bk_div.innerHTML = output.data[HTML_MIME_TYPE];\n",
       "      const script_attrs = bk_div.children[0].attributes;\n",
       "      for (let i = 0; i < script_attrs.length; i++) {\n",
       "        toinsert[toinsert.length - 1].firstChild.setAttribute(script_attrs[i].name, script_attrs[i].value);\n",
       "        toinsert[toinsert.length - 1].firstChild.textContent = bk_div.children[0].textContent\n",
       "      }\n",
       "      // store reference to server id on output_area\n",
       "      output_area._bokeh_server_id = output.metadata[EXEC_MIME_TYPE][\"server_id\"];\n",
       "    }\n",
       "  }\n",
       "\n",
       "  function register_renderer(events, OutputArea) {\n",
       "\n",
       "    function append_mime(data, metadata, element) {\n",
       "      // create a DOM node to render to\n",
       "      const toinsert = this.create_output_subarea(\n",
       "        metadata,\n",
       "        CLASS_NAME,\n",
       "        EXEC_MIME_TYPE\n",
       "      );\n",
       "      this.keyboard_manager.register_events(toinsert);\n",
       "      // Render to node\n",
       "      const props = {data: data, metadata: metadata[EXEC_MIME_TYPE]};\n",
       "      render(props, toinsert[toinsert.length - 1]);\n",
       "      element.append(toinsert);\n",
       "      return toinsert\n",
       "    }\n",
       "\n",
       "    /* Handle when an output is cleared or removed */\n",
       "    events.on('clear_output.CodeCell', handleClearOutput);\n",
       "    events.on('delete.Cell', handleClearOutput);\n",
       "\n",
       "    /* Handle when a new output is added */\n",
       "    events.on('output_added.OutputArea', handleAddOutput);\n",
       "\n",
       "    /**\n",
       "     * Register the mime type and append_mime function with output_area\n",
       "     */\n",
       "    OutputArea.prototype.register_mime_type(EXEC_MIME_TYPE, append_mime, {\n",
       "      /* Is output safe? */\n",
       "      safe: true,\n",
       "      /* Index of renderer in `output_area.display_order` */\n",
       "      index: 0\n",
       "    });\n",
       "  }\n",
       "\n",
       "  // register the mime type if in Jupyter Notebook environment and previously unregistered\n",
       "  if (root.Jupyter !== undefined) {\n",
       "    const events = require('base/js/events');\n",
       "    const OutputArea = require('notebook/js/outputarea').OutputArea;\n",
       "\n",
       "    if (OutputArea.prototype.mime_types().indexOf(EXEC_MIME_TYPE) == -1) {\n",
       "      register_renderer(events, OutputArea);\n",
       "    }\n",
       "  }\n",
       "\n",
       "  \n",
       "  if (typeof (root._bokeh_timeout) === \"undefined\" || force === true) {\n",
       "    root._bokeh_timeout = Date.now() + 5000;\n",
       "    root._bokeh_failed_load = false;\n",
       "  }\n",
       "\n",
       "  const NB_LOAD_WARNING = {'data': {'text/html':\n",
       "     \"<div style='background-color: #fdd'>\\n\"+\n",
       "     \"<p>\\n\"+\n",
       "     \"BokehJS does not appear to have successfully loaded. If loading BokehJS from CDN, this \\n\"+\n",
       "     \"may be due to a slow or bad network connection. Possible fixes:\\n\"+\n",
       "     \"</p>\\n\"+\n",
       "     \"<ul>\\n\"+\n",
       "     \"<li>re-rerun `output_notebook()` to attempt to load from CDN again, or</li>\\n\"+\n",
       "     \"<li>use INLINE resources instead, as so:</li>\\n\"+\n",
       "     \"</ul>\\n\"+\n",
       "     \"<code>\\n\"+\n",
       "     \"from bokeh.resources import INLINE\\n\"+\n",
       "     \"output_notebook(resources=INLINE)\\n\"+\n",
       "     \"</code>\\n\"+\n",
       "     \"</div>\"}};\n",
       "\n",
       "  function display_loaded() {\n",
       "    const el = document.getElementById(\"1002\");\n",
       "    if (el != null) {\n",
       "      el.textContent = \"BokehJS is loading...\";\n",
       "    }\n",
       "    if (root.Bokeh !== undefined) {\n",
       "      if (el != null) {\n",
       "        el.textContent = \"BokehJS \" + root.Bokeh.version + \" successfully loaded.\";\n",
       "      }\n",
       "    } else if (Date.now() < root._bokeh_timeout) {\n",
       "      setTimeout(display_loaded, 100)\n",
       "    }\n",
       "  }\n",
       "\n",
       "\n",
       "  function run_callbacks() {\n",
       "    try {\n",
       "      root._bokeh_onload_callbacks.forEach(function(callback) {\n",
       "        if (callback != null)\n",
       "          callback();\n",
       "      });\n",
       "    } finally {\n",
       "      delete root._bokeh_onload_callbacks\n",
       "    }\n",
       "    console.debug(\"Bokeh: all callbacks have finished\");\n",
       "  }\n",
       "\n",
       "  function load_libs(css_urls, js_urls, callback) {\n",
       "    if (css_urls == null) css_urls = [];\n",
       "    if (js_urls == null) js_urls = [];\n",
       "\n",
       "    root._bokeh_onload_callbacks.push(callback);\n",
       "    if (root._bokeh_is_loading > 0) {\n",
       "      console.debug(\"Bokeh: BokehJS is being loaded, scheduling callback at\", now());\n",
       "      return null;\n",
       "    }\n",
       "    if (js_urls == null || js_urls.length === 0) {\n",
       "      run_callbacks();\n",
       "      return null;\n",
       "    }\n",
       "    console.debug(\"Bokeh: BokehJS not loaded, scheduling load and callback at\", now());\n",
       "    root._bokeh_is_loading = css_urls.length + js_urls.length;\n",
       "\n",
       "    function on_load() {\n",
       "      root._bokeh_is_loading--;\n",
       "      if (root._bokeh_is_loading === 0) {\n",
       "        console.debug(\"Bokeh: all BokehJS libraries/stylesheets loaded\");\n",
       "        run_callbacks()\n",
       "      }\n",
       "    }\n",
       "\n",
       "    function on_error(url) {\n",
       "      console.error(\"failed to load \" + url);\n",
       "    }\n",
       "\n",
       "    for (let i = 0; i < css_urls.length; i++) {\n",
       "      const url = css_urls[i];\n",
       "      const element = document.createElement(\"link\");\n",
       "      element.onload = on_load;\n",
       "      element.onerror = on_error.bind(null, url);\n",
       "      element.rel = \"stylesheet\";\n",
       "      element.type = \"text/css\";\n",
       "      element.href = url;\n",
       "      console.debug(\"Bokeh: injecting link tag for BokehJS stylesheet: \", url);\n",
       "      document.body.appendChild(element);\n",
       "    }\n",
       "\n",
       "    for (let i = 0; i < js_urls.length; i++) {\n",
       "      const url = js_urls[i];\n",
       "      const element = document.createElement('script');\n",
       "      element.onload = on_load;\n",
       "      element.onerror = on_error.bind(null, url);\n",
       "      element.async = false;\n",
       "      element.src = url;\n",
       "      console.debug(\"Bokeh: injecting script tag for BokehJS library: \", url);\n",
       "      document.head.appendChild(element);\n",
       "    }\n",
       "  };\n",
       "\n",
       "  function inject_raw_css(css) {\n",
       "    const element = document.createElement(\"style\");\n",
       "    element.appendChild(document.createTextNode(css));\n",
       "    document.body.appendChild(element);\n",
       "  }\n",
       "\n",
       "  \n",
       "  const js_urls = [\"https://cdn.bokeh.org/bokeh/release/bokeh-2.4.2.min.js\", \"https://cdn.bokeh.org/bokeh/release/bokeh-gl-2.4.2.min.js\", \"https://cdn.bokeh.org/bokeh/release/bokeh-widgets-2.4.2.min.js\", \"https://cdn.bokeh.org/bokeh/release/bokeh-tables-2.4.2.min.js\", \"https://cdn.bokeh.org/bokeh/release/bokeh-mathjax-2.4.2.min.js\"];\n",
       "  const css_urls = [];\n",
       "  \n",
       "\n",
       "  const inline_js = [\n",
       "    function(Bokeh) {\n",
       "      Bokeh.set_log_level(\"info\");\n",
       "    },\n",
       "    function(Bokeh) {\n",
       "    \n",
       "    \n",
       "    }\n",
       "  ];\n",
       "\n",
       "  function run_inline_js() {\n",
       "    \n",
       "    if (root.Bokeh !== undefined || force === true) {\n",
       "      \n",
       "    for (let i = 0; i < inline_js.length; i++) {\n",
       "      inline_js[i].call(root, root.Bokeh);\n",
       "    }\n",
       "    if (force === true) {\n",
       "        display_loaded();\n",
       "      }} else if (Date.now() < root._bokeh_timeout) {\n",
       "      setTimeout(run_inline_js, 100);\n",
       "    } else if (!root._bokeh_failed_load) {\n",
       "      console.log(\"Bokeh: BokehJS failed to load within specified timeout.\");\n",
       "      root._bokeh_failed_load = true;\n",
       "    } else if (force !== true) {\n",
       "      const cell = $(document.getElementById(\"1002\")).parents('.cell').data().cell;\n",
       "      cell.output_area.append_execute_result(NB_LOAD_WARNING)\n",
       "    }\n",
       "\n",
       "  }\n",
       "\n",
       "  if (root._bokeh_is_loading === 0) {\n",
       "    console.debug(\"Bokeh: BokehJS loaded, going straight to plotting\");\n",
       "    run_inline_js();\n",
       "  } else {\n",
       "    load_libs(css_urls, js_urls, function() {\n",
       "      console.debug(\"Bokeh: BokehJS plotting callback run at\", now());\n",
       "      run_inline_js();\n",
       "    });\n",
       "  }\n",
       "}(window));"
      ],
      "application/vnd.bokehjs_load.v0+json": "\n(function(root) {\n  function now() {\n    return new Date();\n  }\n\n  const force = true;\n\n  if (typeof root._bokeh_onload_callbacks === \"undefined\" || force === true) {\n    root._bokeh_onload_callbacks = [];\n    root._bokeh_is_loading = undefined;\n  }\n\n  \n\n  \n  if (typeof (root._bokeh_timeout) === \"undefined\" || force === true) {\n    root._bokeh_timeout = Date.now() + 5000;\n    root._bokeh_failed_load = false;\n  }\n\n  const NB_LOAD_WARNING = {'data': {'text/html':\n     \"<div style='background-color: #fdd'>\\n\"+\n     \"<p>\\n\"+\n     \"BokehJS does not appear to have successfully loaded. If loading BokehJS from CDN, this \\n\"+\n     \"may be due to a slow or bad network connection. Possible fixes:\\n\"+\n     \"</p>\\n\"+\n     \"<ul>\\n\"+\n     \"<li>re-rerun `output_notebook()` to attempt to load from CDN again, or</li>\\n\"+\n     \"<li>use INLINE resources instead, as so:</li>\\n\"+\n     \"</ul>\\n\"+\n     \"<code>\\n\"+\n     \"from bokeh.resources import INLINE\\n\"+\n     \"output_notebook(resources=INLINE)\\n\"+\n     \"</code>\\n\"+\n     \"</div>\"}};\n\n  function display_loaded() {\n    const el = document.getElementById(\"1002\");\n    if (el != null) {\n      el.textContent = \"BokehJS is loading...\";\n    }\n    if (root.Bokeh !== undefined) {\n      if (el != null) {\n        el.textContent = \"BokehJS \" + root.Bokeh.version + \" successfully loaded.\";\n      }\n    } else if (Date.now() < root._bokeh_timeout) {\n      setTimeout(display_loaded, 100)\n    }\n  }\n\n\n  function run_callbacks() {\n    try {\n      root._bokeh_onload_callbacks.forEach(function(callback) {\n        if (callback != null)\n          callback();\n      });\n    } finally {\n      delete root._bokeh_onload_callbacks\n    }\n    console.debug(\"Bokeh: all callbacks have finished\");\n  }\n\n  function load_libs(css_urls, js_urls, callback) {\n    if (css_urls == null) css_urls = [];\n    if (js_urls == null) js_urls = [];\n\n    root._bokeh_onload_callbacks.push(callback);\n    if (root._bokeh_is_loading > 0) {\n      console.debug(\"Bokeh: BokehJS is being loaded, scheduling callback at\", now());\n      return null;\n    }\n    if (js_urls == null || js_urls.length === 0) {\n      run_callbacks();\n      return null;\n    }\n    console.debug(\"Bokeh: BokehJS not loaded, scheduling load and callback at\", now());\n    root._bokeh_is_loading = css_urls.length + js_urls.length;\n\n    function on_load() {\n      root._bokeh_is_loading--;\n      if (root._bokeh_is_loading === 0) {\n        console.debug(\"Bokeh: all BokehJS libraries/stylesheets loaded\");\n        run_callbacks()\n      }\n    }\n\n    function on_error(url) {\n      console.error(\"failed to load \" + url);\n    }\n\n    for (let i = 0; i < css_urls.length; i++) {\n      const url = css_urls[i];\n      const element = document.createElement(\"link\");\n      element.onload = on_load;\n      element.onerror = on_error.bind(null, url);\n      element.rel = \"stylesheet\";\n      element.type = \"text/css\";\n      element.href = url;\n      console.debug(\"Bokeh: injecting link tag for BokehJS stylesheet: \", url);\n      document.body.appendChild(element);\n    }\n\n    for (let i = 0; i < js_urls.length; i++) {\n      const url = js_urls[i];\n      const element = document.createElement('script');\n      element.onload = on_load;\n      element.onerror = on_error.bind(null, url);\n      element.async = false;\n      element.src = url;\n      console.debug(\"Bokeh: injecting script tag for BokehJS library: \", url);\n      document.head.appendChild(element);\n    }\n  };\n\n  function inject_raw_css(css) {\n    const element = document.createElement(\"style\");\n    element.appendChild(document.createTextNode(css));\n    document.body.appendChild(element);\n  }\n\n  \n  const js_urls = [\"https://cdn.bokeh.org/bokeh/release/bokeh-2.4.2.min.js\", \"https://cdn.bokeh.org/bokeh/release/bokeh-gl-2.4.2.min.js\", \"https://cdn.bokeh.org/bokeh/release/bokeh-widgets-2.4.2.min.js\", \"https://cdn.bokeh.org/bokeh/release/bokeh-tables-2.4.2.min.js\", \"https://cdn.bokeh.org/bokeh/release/bokeh-mathjax-2.4.2.min.js\"];\n  const css_urls = [];\n  \n\n  const inline_js = [\n    function(Bokeh) {\n      Bokeh.set_log_level(\"info\");\n    },\n    function(Bokeh) {\n    \n    \n    }\n  ];\n\n  function run_inline_js() {\n    \n    if (root.Bokeh !== undefined || force === true) {\n      \n    for (let i = 0; i < inline_js.length; i++) {\n      inline_js[i].call(root, root.Bokeh);\n    }\n    if (force === true) {\n        display_loaded();\n      }} else if (Date.now() < root._bokeh_timeout) {\n      setTimeout(run_inline_js, 100);\n    } else if (!root._bokeh_failed_load) {\n      console.log(\"Bokeh: BokehJS failed to load within specified timeout.\");\n      root._bokeh_failed_load = true;\n    } else if (force !== true) {\n      const cell = $(document.getElementById(\"1002\")).parents('.cell').data().cell;\n      cell.output_area.append_execute_result(NB_LOAD_WARNING)\n    }\n\n  }\n\n  if (root._bokeh_is_loading === 0) {\n    console.debug(\"Bokeh: BokehJS loaded, going straight to plotting\");\n    run_inline_js();\n  } else {\n    load_libs(css_urls, js_urls, function() {\n      console.debug(\"Bokeh: BokehJS plotting callback run at\", now());\n      run_inline_js();\n    });\n  }\n}(window));"
     },
     "metadata": {},
     "output_type": "display_data"
    }
   ],
   "source": [
    "import pandas as pd\n",
    "import numpy as np\n",
    "from sklearn.manifold import TSNE\n",
    "import re\n",
    "\n",
    "from bokeh.io import show, output_notebook\n",
    "from bokeh.plotting import figure\n",
    "from bokeh.models import ColumnDataSource, HoverTool\n",
    "output_notebook()\n",
    "from bokeh.transform import factor_cmap\n",
    "# bokeh imports for server\n",
    "from bokeh.layouts import row, column\n",
    "from bokeh.models import Div"
   ]
  },
  {
   "cell_type": "markdown",
   "metadata": {},
   "source": [
    "Then I import the data I downloaded with the other notebook (`Get_skalacosmetics_data.ipynb`) and check how many products are in the table per type. Not that many, but let's see where this goes."
   ]
  },
  {
   "cell_type": "code",
   "execution_count": 2,
   "metadata": {},
   "outputs": [
    {
     "data": {
      "text/plain": [
       "Conditioner    32\n",
       "Mask           31\n",
       "Shampoo        17\n",
       "Comb_cream      9\n",
       "Beard           5\n",
       "Gel             1\n",
       "Name: Product_type, dtype: int64"
      ]
     },
     "execution_count": 2,
     "metadata": {},
     "output_type": "execute_result"
    }
   ],
   "source": [
    "# Load the data\n",
    "df = pd.read_csv(\"datasets/Skala_hair_products.csv\",index_col=0)\n",
    "#print(df.head())\n",
    "df.Product_type.value_counts()"
   ]
  },
  {
   "cell_type": "markdown",
   "metadata": {},
   "source": [
    "To get to our end goal of comparing ingredients in each product, we first need to do some preprocessing tasks and bookkeeping of the actual words in each product's ingredients list.\n",
    "\n",
    "Here I define the function I need to get a clean list of ingredients for each product from the raw string I downloaded from the website. This step is called **tokenization** and will be useful to create our bag of words."
   ]
  },
  {
   "cell_type": "code",
   "execution_count": 3,
   "metadata": {},
   "outputs": [],
   "source": [
    "def get_ingredients(raw_ingredients):\n",
    "   #raw_ingredients=soup.find(id=\"produto-texto-composicao\").string\n",
    "   ingredients=re.sub('\\s{2,}',' ',raw_ingredients)\n",
    "   ingredients=re.sub('\\.|\\\\\\\\[a-zA-Z]','',ingredients) \n",
    "   ingredients_lower = ingredients.lower()\n",
    "   ingredients_list=ingredients_lower.split(',') # tokenize ingredients\n",
    "   ingredients_list=[re.sub('^[ \\t]+|[ \\t]+$','',ing) for ing in ingredients_list]\n",
    "   return ingredients_list"
   ]
  },
  {
   "cell_type": "markdown",
   "metadata": {},
   "source": [
    "\n",
    "After splitting them into tokens, we'll make a binary bag of words. Then we will create a **dictionary** with the tokens, `ingredient_idx`, which will have the following format:\n",
    "\n",
    "`{ \"ingredient_name\": index value, … }`"
   ]
  },
  {
   "cell_type": "code",
   "execution_count": 4,
   "metadata": {},
   "outputs": [
    {
     "name": "stdout",
     "output_type": "stream",
     "text": [
      "The index for Sodium Laureth Sulfate is 14\n"
     ]
    }
   ],
   "source": [
    "# Initialize dictionary, list, and initial index\n",
    "ingredient_idx = {}\n",
    "corpus = []\n",
    "idx = 0\n",
    "\n",
    "# For loop for tokenization\n",
    "for i,df_row in df.iterrows():   \n",
    "   ingredients = get_ingredients(df_row['Ingredients'])\n",
    "   corpus.append(ingredients)\n",
    "   for ingredient in ingredients:\n",
    "      if ingredient not in ingredient_idx:\n",
    "            ingredient_idx[ingredient] = idx\n",
    "            idx += 1\n",
    "            \n",
    "\n",
    "# Check the result \n",
    "#print(ingredient_idx)\n",
    "print(\"The index for Sodium Laureth Sulfate is\", ingredient_idx['sodium laureth sulfate'])"
   ]
  },
  {
   "cell_type": "markdown",
   "metadata": {},
   "source": [
    "The next step is making a **document-term matrix (DTM)**. Here each cosmetic product will correspond to a document, and each chemical composition will correspond to a term. This means we can think of the matrix as a “cosmetic-ingredient” matrix. The size of the matrix $N\\times M$, where $N$ is the number of ingredients in our dictionary, and $M$ is the number of products in the dataframe. To create this matrix, we'll first make an empty matrix filled with zeros, then we'll fill it by following this simple rule: if an ingredient is in a cosmetic, the value is 1. If not, it remains 0."
   ]
  },
  {
   "cell_type": "code",
   "execution_count": 5,
   "metadata": {},
   "outputs": [],
   "source": [
    "# Get the number of items and tokens \n",
    "M = df.shape[0] # n of rows\n",
    "N = len(ingredient_idx)\n",
    "\n",
    "# Initialize a matrix of zeros\n",
    "A = np.zeros(shape=[M,N])"
   ]
  },
  {
   "cell_type": "markdown",
   "metadata": {},
   "source": [
    "Before we can fill the matrix, let's create a function to count the tokens (i.e., an ingredients list) for each row. this is what we call **one-hot encoding**. By encoding each ingredient in the items, the Cosmetic-Ingredient matrix will be filled with binary values: if an ingredient is in a cosmetic, the value is 1. If not, it remains 0."
   ]
  },
  {
   "cell_type": "code",
   "execution_count": 6,
   "metadata": {},
   "outputs": [],
   "source": [
    "# Define the oh_encoder function\n",
    "def oh_encoder(tokens):\n",
    "    x = np.zeros(len(ingredient_idx))\n",
    "    for ingredient in tokens:\n",
    "        #Geet the index for each ingredient\n",
    "        idx = ingredient_idx[ingredient]\n",
    "        # Put 1 at the corresponding indices\n",
    "        x[idx] += 1\n",
    "    return x"
   ]
  },
  {
   "cell_type": "markdown",
   "metadata": {},
   "source": [
    "Now we'll apply the `oh_encoder()` functon to the tokens in corpus and set the values at each row of this matrix. So the result will tell us what ingredients each item is composed of."
   ]
  },
  {
   "cell_type": "code",
   "execution_count": 7,
   "metadata": {},
   "outputs": [],
   "source": [
    "# Make a document-term matrix\n",
    "i = 0\n",
    "for tokens in corpus:\n",
    "    A[i, :] = oh_encoder(tokens)\n",
    "    i += 1"
   ]
  },
  {
   "cell_type": "markdown",
   "metadata": {},
   "source": [
    "For visualization, we need to downsize the document-term matrix into two dimensions. We'll use t-SNE for reducing the dimension of the data here.\n",
    "\n",
    "**T-distributed Stochastic Neighbor Embedding (t-SNE)** is a nonlinear dimensionality reduction technique that is well-suited for embedding high-dimensional data for visualization in a low-dimensional space of two or three dimensions. Specifically, this technique can reduce the dimension of data while keeping the similarities between the instances. This enables us to make a plot on the coordinate plane, which can be said as vectorizing. All of these cosmetic items in our data will be vectorized into two-dimensional coordinates, and the distances between the points will indicate the similarities between the items."
   ]
  },
  {
   "cell_type": "code",
   "execution_count": 8,
   "metadata": {},
   "outputs": [],
   "source": [
    "# Dimension reduction with t-SNE\n",
    "model = TSNE(n_components=2, learning_rate=200, random_state=42,init='random')#init='pca'\n",
    "tsne_features = model.fit_transform(A)\n",
    "\n",
    "# Make X, Y columns \n",
    "df['X'] = tsne_features[:,0]\n",
    "df['Y'] = tsne_features[:,1]"
   ]
  },
  {
   "cell_type": "markdown",
   "metadata": {},
   "source": [
    "## Visualization\n",
    "We are now ready to create our plot. With the t-SNE values, we can plot all our items on the coordinate plane. And the coolest part here is that it will also show us the name, the brand and the category of each item. Let's make a scatter plot using Bokeh and add a hover tool to show that information. "
   ]
  },
  {
   "cell_type": "code",
   "execution_count": 9,
   "metadata": {},
   "outputs": [
    {
     "data": {
      "text/html": [
       "\n",
       "\n",
       "\n",
       "\n",
       "\n",
       "\n",
       "  <div class=\"bk-root\" id=\"db6b23a5-1ac6-485b-8988-1ccf4cb6ec38\" data-root-id=\"1004\"></div>\n"
      ]
     },
     "metadata": {},
     "output_type": "display_data"
    },
    {
     "data": {
      "application/javascript": [
       "(function(root) {\n",
       "  function embed_document(root) {\n",
       "    \n",
       "  const docs_json = {\"ab37171e-3422-4b5e-b48f-7da79c4fd4bd\":{\"defs\":[],\"roots\":{\"references\":[{\"attributes\":{\"below\":[{\"id\":\"1013\"}],\"center\":[{\"id\":\"1016\"},{\"id\":\"1020\"},{\"id\":\"1051\"}],\"height\":500,\"left\":[{\"id\":\"1017\"}],\"renderers\":[{\"id\":\"1038\"}],\"title\":{\"id\":\"1040\"},\"toolbar\":{\"id\":\"1027\"},\"width\":700,\"x_range\":{\"id\":\"1005\"},\"x_scale\":{\"id\":\"1009\"},\"y_range\":{\"id\":\"1007\"},\"y_scale\":{\"id\":\"1011\"}},\"id\":\"1004\",\"subtype\":\"Figure\",\"type\":\"Plot\"},{\"attributes\":{\"coordinates\":null,\"data_source\":{\"id\":\"1003\"},\"glyph\":{\"id\":\"1035\"},\"group\":null,\"hover_glyph\":null,\"muted_glyph\":{\"id\":\"1037\"},\"nonselection_glyph\":{\"id\":\"1036\"},\"view\":{\"id\":\"1039\"}},\"id\":\"1038\",\"type\":\"GlyphRenderer\"},{\"attributes\":{\"data\":{\"Beard\":[false,false,false,false,false,false,false,false,false,false,false,false,false,false,false,false,false,false,false,false,false,false,false,false,false,false,false,false,false,false,false,false,false,false,false,false,false,false,false,false,false,false,false,false,false,false,false,false,false,false,false,false,false,false,false,false,false,false,false,false,false,false,false,false,false,false,false,false,false,false,false,false,false,false,false,false,false,false,false,false,false,false,false,false,false,false,false,false,false,false,true,true,true,true,true],\"Brand\":[\"Skala Cosm\\\\xe9ticos\",\"Skala Cosm\\\\xe9ticos\",\"Skala Cosm\\\\xe9ticos\",\"Skala Cosm\\\\xe9ticos\",\"Skala Cosm\\\\xe9ticos\",\"Skala Cosm\\\\xe9ticos\",\"Skala Cosm\\\\xe9ticos\",\"Skala Cosm\\\\xe9ticos\",\"Skala Cosm\\\\xe9ticos\",\"Skala Cosm\\\\xe9ticos\",\"Skala Cosm\\\\xe9ticos\",\"Skala Cosm\\\\xe9ticos\",\"Skala Cosm\\\\xe9ticos\",\"Skala Cosm\\\\xe9ticos\",\"Skala Cosm\\\\xe9ticos\",\"Skala Cosm\\\\xe9ticos\",\"Skala Cosm\\\\xe9ticos\",\"Skala Cosm\\\\xe9ticos\",\"Skala Cosm\\\\xe9ticos\",\"Skala Cosm\\\\xe9ticos\",\"Skala Cosm\\\\xe9ticos\",\"Skala Cosm\\\\xe9ticos\",\"Skala Cosm\\\\xe9ticos\",\"Skala Cosm\\\\xe9ticos\",\"Skala Cosm\\\\xe9ticos\",\"Skala Cosm\\\\xe9ticos\",\"Skala Cosm\\\\xe9ticos\",\"Skala Cosm\\\\xe9ticos\",\"Skala Cosm\\\\xe9ticos\",\"Skala Cosm\\\\xe9ticos\",\"Skala Cosm\\\\xe9ticos\",\"Skala Cosm\\\\xe9ticos\",\"Skala Cosm\\\\xe9ticos\",\"Skala Cosm\\\\xe9ticos\",\"Skala Cosm\\\\xe9ticos\",\"Skala Cosm\\\\xe9ticos\",\"Skala Cosm\\\\xe9ticos\",\"Skala Cosm\\\\xe9ticos\",\"Skala Cosm\\\\xe9ticos\",\"Skala Cosm\\\\xe9ticos\",\"Skala Cosm\\\\xe9ticos\",\"Skala Cosm\\\\xe9ticos\",\"Skala Cosm\\\\xe9ticos\",\"Skala Cosm\\\\xe9ticos\",\"Skala Cosm\\\\xe9ticos\",\"Skala Cosm\\\\xe9ticos\",\"Skala Cosm\\\\xe9ticos\",\"Skala Cosm\\\\xe9ticos\",\"Skala Cosm\\\\xe9ticos\",\"Skala Cosm\\\\xe9ticos\",\"Skala Cosm\\\\xe9ticos\",\"Skala Cosm\\\\xe9ticos\",\"Skala Cosm\\\\xe9ticos\",\"Skala Cosm\\\\xe9ticos\",\"Skala Cosm\\\\xe9ticos\",\"Skala Cosm\\\\xe9ticos\",\"Skala Cosm\\\\xe9ticos\",\"Skala Cosm\\\\xe9ticos\",\"Skala Cosm\\\\xe9ticos\",\"Skala Cosm\\\\xe9ticos\",\"Skala Cosm\\\\xe9ticos\",\"Skala Cosm\\\\xe9ticos\",\"Skala Cosm\\\\xe9ticos\",\"Skala Cosm\\\\xe9ticos\",\"Skala Cosm\\\\xe9ticos\",\"Skala Cosm\\\\xe9ticos\",\"Skala Cosm\\\\xe9ticos\",\"Skala Cosm\\\\xe9ticos\",\"Skala Cosm\\\\xe9ticos\",\"Skala Cosm\\\\xe9ticos\",\"Skala Cosm\\\\xe9ticos\",\"Skala Cosm\\\\xe9ticos\",\"Skala Cosm\\\\xe9ticos\",\"Skala Cosm\\\\xe9ticos\",\"Skala Cosm\\\\xe9ticos\",\"Skala Cosm\\\\xe9ticos\",\"Skala Cosm\\\\xe9ticos\",\"Skala Cosm\\\\xe9ticos\",\"Skala Cosm\\\\xe9ticos\",\"Skala Cosm\\\\xe9ticos\",\"Skala Cosm\\\\xe9ticos\",\"Skala Cosm\\\\xe9ticos\",\"Skala Cosm\\\\xe9ticos\",\"Skala Cosm\\\\xe9ticos\",\"Skala Cosm\\\\xe9ticos\",\"Skala Cosm\\\\xe9ticos\",\"Skala Cosm\\\\xe9ticos\",\"Skala Cosm\\\\xe9ticos\",\"Skala Cosm\\\\xe9ticos\",\"Skala Cosm\\\\xe9ticos\",\"Skala Cosm\\\\xe9ticos\",\"Skala Cosm\\\\xe9ticos\",\"Skala Cosm\\\\xe9ticos\",\"Skala Cosm\\\\xe9ticos\",\"Skala Cosm\\\\xe9ticos\"],\"Comb_cream\":[false,false,false,false,false,false,false,false,false,false,false,false,false,false,false,false,false,false,false,false,false,false,false,false,false,false,false,false,false,false,false,false,false,false,false,false,false,false,false,false,false,false,false,false,false,false,false,false,false,false,false,false,false,false,false,false,false,false,false,false,false,false,false,false,false,false,false,false,false,false,false,false,false,false,false,false,false,false,false,false,true,true,true,true,true,true,true,true,true,false,false,false,false,false,false],\"Conditioner\":[false,false,false,false,false,false,false,false,false,false,false,false,false,false,false,false,false,true,true,true,true,true,true,true,true,true,true,true,true,true,true,true,true,true,true,true,true,true,true,true,true,true,true,true,true,true,true,true,true,false,false,false,false,false,false,false,false,false,false,false,false,false,false,false,false,false,false,false,false,false,false,false,false,false,false,false,false,false,false,false,false,false,false,false,false,false,false,false,false,false,false,false,false,false,false],\"Gel\":[false,false,false,false,false,false,false,false,false,false,false,false,false,false,false,false,false,false,false,false,false,false,false,false,false,false,false,false,false,false,false,false,false,false,false,false,false,false,false,false,false,false,false,false,false,false,false,false,false,false,false,false,false,false,false,false,false,false,false,false,false,false,false,false,false,false,false,false,false,false,false,false,false,false,false,false,false,false,false,false,false,false,false,false,false,false,false,false,false,true,false,false,false,false,false],\"Ingredients\":[\"\\\\r\\\\n                Aqua, Sodium Methyl 2-Sulfolaurate (and) Disodium 2-Sulfolaurate (and) Cetyl Betaine (and) Lauryl Betaine (and) Lauramidopropyl Betaine (and) Myristamidopropyl Betaine (and) Lauryl Lactyl Lactate (and) Dimethyl Lauramide/Myristamide, Cocamidopropyl Betaine, Polyquaternium-10, Parfum, Hydroxypropylguar Hydroxypropyltrimonium Chloride, PEG-160 Sorbitan Triisostearate, Chamomila Recutita Flower Extract, Tocopheryl Acetate, Panthenol, Disodium EDTA, Citric Acid, 2-Bromo-2-Nitropropane-1,3-Diol.            \",\"\\\\r\\\\n                Aqua, Sodium Laureth Sulfate, Cocamidopropyl Betaine, Glycol Distearate, Polyquaternium-10, PEG-90M, Parfum, Guar Hydroxypropyltrimonium Chloride, Ammonium Chloride, Rhodiola Rosea Root Extract (and) Caesalpinia Spinosa Gum (and) Glycerin, Panthenol, Tocopheryl Acetate, Citric Acid, Disodium EDTA,  Methylchloroisothiazolinone (and) Methylisothiazolinone.            \",\"\\\\r\\\\n                Aqua, Sodium Laureth Sulfate, Cocamidopropyl Betaine, Glycol Distearate, Polyquaternium-10,  PEG-90M, Parfum, Guar Hydroxypropyltrimonium Chloride,  Hydrolyzed Rice Protein, Zea Mays (Corn) Starch, Hydrolyzed Wheat Protein (and) Hydrolyzed Soy Protein (and) Carbocysteine (and) Threonine (and) Serine (and) Glutamic Acid , Ammonium Chloride, Panthenol, Tocopheryl Acetate, Methylchloroisothiazolinone (and) Methylisothiazolinone,  Citric  Acid, Dissodium EDTA, Benzyl Salicylate, Butylphenyl Methylpropional, Hexyl Cinnamal, Linalool.            \",\"\\\\r\\\\n                Aqua, Sodium Laureth Sulfate, Cocamidopropyl Betaine, Glycol Distearate, PEG-90M, Ammonium Chloride, Polyquaternium-10, Parfum, Guar Hydroxypropyltrimonium Chloride, Disodium EDTA, Methylchloroisothiazolinone (and) Methylisothiazolinone, Citric Acid, Tocopheryl Acetate, Panthenol, Persea Gratissima Fruit Extract, Ricinus Communis(Castor) Seed Oil, Aloe Barbadensis Extract, Amyl Cinnamal, Benzyl Alcohol, Hexyl Cinnamal, CI42.090 (FD&C Blue n\\\\xba1), CI 19.140 (FD&C Yellow n\\\\xba5).            \",\"\\\\r\\\\n                Aqua, Sodium Methyl 2-Sulfolaurate (and) Disodium 2-Sulfolaurate (and) Cetyl Betaine (and) Lauryl Betaine (and) Lauramidopropyl Betaine (and) Myristamidopropyl Betaine (and) Lauryl Lactyl Lactate (and) Dimethyl Lauramide/Myristamide, Cocamidopropyl Betaine, Polyquaternium-10, Guar Hydroxypropyltrimonium Chloride, Methylchloroisothiazolinone (and) Methylisothiazolinone, Parfum, PEG-160 Sorbitan Triisostearate, Linum Usitatissimum Seed Oil, Cocos Nucifera Oil, Tocopheryl Acetate, Panthenol, Disodium EDTA, Citric Acid.            \",\"\\\\r\\\\n                Aqua, Sodium Laureth Sulfate, Cocamidopropyl Betaine, Glycol Distearate, PEG-90M, Ammonium Chloride, Polyquaternium-10, Parfum, Guar Hydroxypropyltrimonium Chloride, Argania Spinosa Kernel Oil, Persea Gratissima Fruit Extract, Hydrolyzed Corn Protein (and) Hydrolyzed Soy Protein (and) Hydrolyzed Wheat Protein, Laureth-2 (and) Myreth-2 (and) Octyldodecanol (and) Cetyl Lactate (and) Prunus Amygdalus Dulcis Oil (and) Zea Mays Oil (and) Gossypium Herbaceum Seed Oil (and) Helianthus Annuus Seed Oil (and) Triticum Vulgare Germ Oil (and) Persea Gratissima Oil (and) Phospholipids (and) Squalene (and) Glyceryl Linoleate (and) Glyceryl Linolenate (and) Tocopheryl Acetate, Astrocaryum Murumuru Seed Butter/Tocopherol, Oenocarpus Bataua Fruit Oil, Theobroma Cacao Extract, Hydrolyzed Rice Protein, Hydrolyzed Wheat Protein, Saccharum Officinarum Extract, Tocopheryl Acetate, Panthenol, Disodium EDTA, Citric Acid, Methylchloroisothiazolinone (and) Methylisothiazolinone, Hexyl Cinnamal. *Sem adi\\\\xe7\\\\xe3o de Cloreto de S\\\\xf3dio            \",\"\\\\r\\\\n                Aqua, Sodium Laureth Sulfate, Cocamidopropyl Betaine, Glycol Distearate, PEG-90M, Ammonium Chloride, Polyquaternium-10, Parfum, Guar Hydroxypropyltrimonium Chloride, Methylchloroisothiazolinone (and) Methylisothiazolinone, Zea Mays (Corn) Starch, Cocos Nucifera Oil, Shea Butter Cetyl Esters,  Panthenol, Tocopheryl Acetate, Disodium EDTA, Citric Acid, Linalool.            \",\"\\\\r\\\\n                Aqua, Sodium Laureth Sulfate, Cocamidopropyl Betaine, Glycol Distearate, Polyquaternium-10, Ammonium Chloride, Dimethicone, Propylene Glycol, Glycerin, Climbazole, Parfum, Guar Hydroxypropyltrimonium Chloride, Acrylates / C10-30 Alkyl Acrylate Crosspolymer, Methylchloroisothiazolinone (and) Methylisothiazolinone, Aminomethyl Propanol, Disodium EDTA, Laureth-2 (and) Myreth-2 (and) Octyldodecanol (and) Cetyl Lactate (and) Prunus Amygdalus Dulcis Oil (and) Zea Mays Oil (and) Gossypium Herbaceum Seed Oil (and) Helianthus Annuus Seed Oil (and) Triticum Vulgare Germ Oil (and) Persea Gratissima Oil (and) Phospholipids (and) Squalene (and) Glyceryl Linoleate (and) Glyceryl Linolenate (and) Tocopheryl Acetate, Glicerin (and) Methylpropanediol (and) Polysorbate 80 (and) 4-Terpineol (and) Caesalpinia Spinosa Gum (and) Salix  Alba  Bark  Extract,  Aloe Barbadendis Extract, Hydrolyzed Corn Protein (and) Hydrolyzed Soy Protein (and) Hydrolyzed Wheat Protein, Benzyl Salicylate.            \",\"\\\\r\\\\n                Aqua, Sodium Laureth Sulfate, Cocamidopropyl Betaine, Glycol Distearate, Polyquaternium-10, PEG-90M, Parfum, Guar Hydroxypropyltrimonium Chloride, Ammonium Chloride, Anacardium Occidentale (Cashew) Extract, Astrocaryum Murumuru Seed Butter (and) Tocopherol, Panthenol, Tocopheryl Acetate, Methylchloroisothiazolinone (and), Methylisothiazolinone, Citric Acid, Disodium EDTA. *Sem Adi\\\\xe7\\\\xe3o de Cloreto de S\\\\xf3dio            \",\"\\\\r\\\\n                Aqua, Sodium Laureth Sulfate, Cocamidopropyl Betaine, Glycol Distearate, Polyquaternium-10,  PEG-90M, Parfum, Guar Hydroxypropyltrimonium Chloride, Hydrolyzed Corn Protein (and)  Hydrolyzed Soy Protein (and) Hydrolyzed Wheat Protein, Porphyra Umbilicalis Extract (and) Caesalpinia Spinosa Gum,  Argania Spinosa Kernel Oil,  Ricinus Communis (Castor) Seed Oil, Ammonium Chloride, Panthenol, Tocopheryl Acetate, Methylchloroisothiazolinone (and) Methylisothiazolinone,  Citric Acid, Dissodium EDTA.            \",\"\\\\r\\\\n                Aqua, Sodium Laureth Sulfate, Cocamidopropyl Betaine, Polyquaternium-10, Cocamide MIPA, PEG-120  Methyl Glucose Dioleate, Parfum, PEG-90M, Trideceth-9 (and) PEG-5  Isononanoate,  Citrus Limon (Lemon) Fruit Extract,  Cymbopogon Schoenanthus Extract, Glicerin (and) Water (Aqua)(and) Sodium Benzoate,  Panthenol,  Tocopheryl Acetate, Ammonium Chloride, Methylchloroisothiazolinone (and) Methylisothiazolinone,  Citric Acid, Dissodium EDTA.            \",\"\\\\r\\\\n                Aqua, Sodium Laureth Sulfate, Cocamidopropyl Betaine, Polyquaternium-10, Cocamide  MIPA, PEG-120  Methyl Glucose Dioleate, PEG-90M, Parfum, Trideceth-9 (and) PEG-5  Isononanoate,   Pyrus   Malus (Apple) Fruit Extract, Sida Cordifolia Extract, Glicerin (and) Water (Aqua)(and) Sodium Benzoate,  Panthenol,  Tocopheryl  Acetate, Ammonium Chloride, Methylchloroisothiazolinone (and) Methylisothiazolinone, Citric Acid, Dissodium EDTA.            \",\"\\\\r\\\\n                Aqua, Sodium Laureth Sulfate, Cocamidopropyl Betaine, Glycol Distearate, Ammonium Chloride, Parfum, Polyquaternium-10, PEG-90M, Guar Hydroxypropyltrimonium Chloride, , Methylchloroisothiazolinone (and) Methylisothiazolinone, Disodium EDTA, Citric Acid, Panthenol, Argania Spinosa Kernel Oil, Tocopheryl Acetate, Benzyl Salicylate, Hexyl Cinnamal.            \",\"\\\\r\\\\n                Aqua,  Sodium  Laureth  Sulfate, Cocamidopropyl  Betaine, Glycol Distearate,  Parfum, Polyquaternium-10, PEG-90M,  Guar Hydroxypropyltrimonium Chloride, Cocos Nucifera Oil, Panthenol, Tocopheryl Acetate, Ammonium Chloride, Methylchloroisothiazolinone (and) Methylisothiazolinone,  Citric Acid,  Disodium EDTA.            \",\"\\\\r\\\\n                Aqua, Sodium Laureth Sulfate, Cocamidopropyl Betaine, Polyquaternium-10, Cocamide  MIPA, PEG-120  Methyl Glucose Dioleate, PEG-90M, Parfum, Trideceth-9 (and) PEG-5  Isononanoate,    Hylocereus  Undatus  Fruit  Extract, Verbena  Officinalis   Leaf   Extract, Glicerin (and) Water (Aqua)(and) Sodium Benzoate, Ammonium Chloride, Panthenol, Tocopheryl  Acetate,  Methylchloroisothiazolinone (and) Methylisothiazolinone,  Citric Acid,  Dissodium EDTA, Amyl Cinnamal.            \",\"\\\\r\\\\n                Aqua, Sodium Laureth Sulfate, Cocamidopropyl Betaine, Polyquaternium-10, Cocamide MIPA, PEG-120  Methyl Glucose Dioleate, PEG-90M,  Parfum, Trideceth-9 (and) PEG-5  Isononanoate,    Citrus  Tangerina (Tangerine)  Extract,  Zingiber  Officinale  (Ginger)  Root  Extract, Glicerin (and) Water (Aqua)(and) Sodium Benzoate,   Ammonium Chloride, Panthenol, Tocopheryl  Acetate,  Methylchloroisothiazolinone (and) Methylisothiazolinone, Citric Acid, Dissodium EDTA, Hexyl Cinnamal.            \",\"\\\\r\\\\n                Aqua, Sodium Laureth Sulfate, Cocamidopropyl Betaine, Cocamide MIPA, Polyquaternium-10, PEG-120  Methyl Glucose Dioleate, PEG-90M, Ammonium Chloride, PEG-12 Dimethicone, Propylene Glycol, Sodium Salicylate (and) Caffeine, Zinc PCA, Menthyl Lactate, Parfum, Methylchloroisothiazolinone (and) Methylisothiazolinone, Disodium EDTA,  Citric Acid.*Sem Adi\\\\xe7\\\\xe3o de Cloreto de S\\\\xf3dio            \",\"\\\\r\\\\n                Aqua, Cetearyl Alcohol, Shea Butter Cetyl Esters, Glycerin, Stearamidopropyl Dimethylamine, Behentrimonium Chloride, Citric Acid, Disodium Edta, Parfum, Tocopheryl Acetate, Panthenol, Chamomilla Recutita Flower Extract, 2-Bromo-2-Nitropropane-1,3-Diol.            \",\"\\\\r\\\\n                Aqua, Cetearyl Alcohol, Cetrimonium Chloride, Shea Butter Cetyl Esters, Parfum, Pilocarpus Microphyllus Leaf Extract, Camellia Sinensis Leaf Extract, Methylchloroisothiazolinone (and) Methylisothiazolinone, PEG-90M, Citric Acid, Disodium EDTA, Panthenol, Tocopheryl Acetate, Hexyl Cinnamal, Linalool.            \",\"\\\\r\\\\n                Aqua, Cetearyl Alcohol, Cetrimonium Chloride,  Shea Butter Cetyl Esters, Stearamidopropyl Dimethylamine, Rhodiola Rosea Root Extract (and) Caesalpinia Spinosa Gum (and) Glycerin,  Parfum,  PEG-90M,  Panthenol,  Tocopheryl Acetate, Citric Acid, Disodium EDTA, Methylchloroisothiazolinone (and) Methylisothiazolinone.            \",\"\\\\r\\\\n                Aqua, Cetearyl Alcohol, Cetrimonium Chloride, Shea Butter Cetyl Esters, Parfum, PEG-90M,  Hydrolyzed Rice Protein,  Zea Mays (Corn) Starch, Hydrolyzed Wheat Protein (and) Hydrolyzed Soy Protein (and) Carbocysteine (and) Threonine (and) Serine (and) Glutamic Acid, Panthenol, Tocopheryl Acetate, Methylchloroisothiazolinone (and) Methylisothiazolinone, Citric Acid,  Disodium  EDTA, Hexyl Cinnamal, Linalool            \",\"\\\\r\\\\n                Aqua, Cetearyl Alcohol, Cetrimonium Chloride, Shea Butter Cetyl Esters, Parfum, Methylchloroisothiazolinone (and) Methylisothiazolinone, PEG-90M, Citric Acid, Disodium EDTA, Panthenol, Persea Gratissima Fruit Extract, Ricinus Communis (Castor) Seed Oil, Aloe Barbadensis Extract, Tocopheryl Acetate, Benzyl Alcohol, Hexyl Cinnamal, CI 42.090 (FD&C Blue n\\\\xba1), CI 19.140 (FD&C Yellow n\\\\xba5).            \",\"\\\\r\\\\n                Aqua, Cetearyl Alcohol, Cetrimonium Chloride, Shea Butter Cetyl Esters, Parfum Methylchloroisothiazolinone (and) Methylisothiazolinone, Citric Acid, Linum Usitatissimum Seed Oil, Cocos Nucifera Oil, Panthenol, Tocopheryl Acetate.            \",\"\\\\r\\\\n                Aqua, Cetearyl Alcohol, Cetrimonium Chloride, Shea Butter Cetyl Esters, Parfum, PEG-90M, Hyaluronic Acid, Retinyl Palmitate, Tocopheryl Acetate, Panthenol, Argania Spinosa Kernel Oil, Ricinus Communis (Castor) Seed Oil, Hydrolyzed Wheat Protein (and) Hydrolyzed Soy Protein (and) Hydrolyzed Corn Protein, Citric Acid, Disodium EDTA, Methylchloroisothiazolinone (and) Methylisothiazolinone, Citronellol, Geraniol.            \",\"\\\\r\\\\n                Aqua, Cetearyl Alcohol, Cetrimonium Chloride, Shea Butter Cetyl Esters,  Parfum, Ricinus Communis (Castor) Seed Oil,  Argania Spinosa Kernel Oil, PEG-90M, Methylchloroisothiazolinone (and) Methylisothiazolinone, Citric Acid, Disodium EDTA Panthenol, Tocopheryl Acetate.            \",\"\\\\r\\\\n                Aqua, Cetearyl Alcohol, Cetrimonium Chloride, Shea Butter Cetyl Esters, Parfum, PEG-90M, Laureth-2 (and) Myreth-2 (and) Octyldodecanol (and) Cetyl Lactate (and) Prunus Amygdalus Dulcis Oil (and) Zea Mays Oil (and) Gossypium Herbaceum Seed Oil (and) Helianthus Annuus Seed Oil (and) Triticum Vulgare Germ Oil (and) Persea Gratissima Oil (and) Phospholipids (and) Squalene (and) Glyceryl Linoleate (and) Glyceryl Linolenate (and) Tocopheryl Acetate, Hydrolyzed Rice Protein, Saccharum Officinarum Extract, Persea Gratissima Fruit Extract, Argania Spinosa Kernel Oil, Theobroma Cacao Seed Butter, Astrocaryum Murumuru Seed Butter/Tocopherol, Oenocarpus Bataua Fruit Oil, Hydrolyzed Wheat Protein, Hydrolyzed Corn Protein (and) Hydrolyzed Soy Protein (and) Hydrolyzed Wheat Protein, Tocopheryl Acetate, Panthenol, Citric Acid, Disodium EDTA, Methylchloroisothiazolinone (and) Methylisothiazolinone, Hexyl Cinnamal.            \",\"\\\\r\\\\n                Aqua, Cetearyl Alcohol, Cetrimonium Chloride, Shea Butter Cetyl Esters, Parfum, Methylchloroisothiazolinone (and) Methylisothiazolinone, PEG-90M, Panthenol, Zea Mays (Corn) Starch, Cocos Nucifera Oil, Tocopheryl Acetate, Citric Acid, Disodium EDTA.            \",\"\\\\r\\\\n                Aqua, Lavandula Angustifolia (Lavender) Flower/Leaf/Stem Water, Cetearyl Alcohol, Quaternium-91 (and) Cetrimonium Methosulfate (and) Cetearyl Alcohol, Shea Butter Cetyl Esters, Helianthus Annus (Sunflower) Seed Oil, Glycerin, Stearamidopropyl Dimethylamine, Citric Acid, Tocopherol, Benzyl Alcohol (and) Phenoxyethanol, Persea Gratissima (Avocado) Oil, Parfum, Hexyl Cinnamal, CI 19140 (CI Food Yellow 4), CI 15985 (CI Food Yellow 3), CI 42090 (CI Food Blue 2).            \",\"\\\\r\\\\n                Aqua, Cetearyl Alcohol, Cetrimonium Chloride,  Shea Butter Cetyl Esters, Parfum, PEG-90M, Aloe Barbadensis Extract, Panthenol,  Methylchloroisothiazolinone (and) Methylisothiazolinone, Tocopheryl Acetate, Citric Acid, Disodium EDTA, Hexyl Cinnamal.            \",\"\\\\r\\\\n                Aqua, Cetearyl Alcohol, Cetrimonium Chloride, Shea Butter Cetyl Esters, Parfum, PEG-90M, Musa Sapientum (Banana) Fruit Extract, Platonia Insignis Seed Butter (and) Tocopherol, Panthenol, Aloe Barbadensis Extract, Methylchloroisothiazolinone (and) Methylisothiazolinone, Citric Acid, Disodium EDTA, Hexyl Cinnamal.            \",\"\\\\r\\\\n                Aqua, Cetearyl Alcohol, Cetrimonium Chloride, Shea Butter Cetyl Esters, PEG-90M, Parfum, Coffea Arabica Seed Extract, Virola Surinamensis Seed Butter (and) Tocopherol, Panthenol, Methylchloroisothiazolinone (and) Methylisothiazolinone, Citric Acid, Disodium EDTA.            \",\"\\\\r\\\\n                Aqua, Cetearyl Alcohol, Cetrimonium Chloride, Shea Butter Cetyl Esters, Parfum, PEG-90M, Anacardium Occidentale (Cashew) Extract, Astrocaryum Murumuru Seed Butter/Tocopherol, Methylchloroisothiazolinone (and) Methylisothiazolinone, Panthenol, Citric Acid, Disodium EDTA.            \",\"\\\\r\\\\n                Aqua, Cetearyl Alcohol, Cetrimonium Chloride, Shea Butter Cetyl Esters, Parfum, PEG-90M, Ceramidas G3* (Laureth-2 (and) Myreth-2 (and) Octyldodecanol (and) Cetyl Lactate (and) Prunus Amygdalus Dulcis Oil (and) Zea Mays Oil (and) Gossypium Herbaceum Seed Oil (and) Helianthus Annuus Seed Oil (and) Triticum Vulgare Germ Oil (and) Persea Gratissima Oil (and) Phospholipids (and) Squalene (and) Glyceryl Linoleate (and) Glyceryl Linolenate (and) Tocopheryl Acetate), Panthenol, Tocopheryl Acetate, Citric Acid, Disodium EDTA, Methylchloroisothiazolinone (and) Methylisothiazolinone.            \",\"\\\\r\\\\n                Aqua, Cetearyl Alcohol, Cetrimonium Chloride, Shea Butter Cetyl Esters, Parfum, PEG-90M, Argania Spinosa Kernel Oil, Ricinus Communis (Castor) Seed Oil, Hydrolyzed Corn Protein (and)  Hydrolyzed Soy Protein (and) Hydrolyzed Wheat Protein, Porphyra Umbilicalis Extract (and) Caesalpinia Spinosa Gum,  Panthenol, Tocopheryl Acetate, Methylchloroisothiazolinone (and) Methylisothiazolinone, Citric Acid,  Disodium  EDTA.            \",\"\\\\r\\\\n                Aqua, Lavandula Angustifolia (Lavender) Flower/Leaf/Stem Water, Cetearyl Alcohol, Quaternium-91 (and) Cetrimonium Methosulfate (and) Cetearyl Alcohol, Shea Butter Cetyl Esters, Helianthus Annus (Sunflower) Seed Oil, Glycerin, Stearamidopropyl Dimethylamine, Citric Acid, Tocopherol, Benzyl Alcohol (and) Phenoxyethanol, Citrus Limon (Lemon) Fruit Extract (and) Citrus Aurantium Dulcis Juice, Parfum, Limonene, Eugenol, Geraniol, Hexyl Cinnamal, Linalool.            \",\"\\\\r\\\\n                Aqua, Lavandula Angustifolia (Lavender) Flower/Leaf/Stem Water, Cetearyl Alcohol, Quaternium-91 (and) Cetrimonium Methosulfate (and) Cetearyl Alcohol, Shea Butter Cetyl Esters, Helianthus Annus (Sunflower) Seed Oil, Glycerin, Stearamidopropyl Dimethylamine, Citric Acid, Tocopherol, Benzyl Alcohol (and) Phenoxyethanol, Fragaria Vesca (Strawberry) Fruit Extract (and) Rubus Idaeus (Raspberry) Fruit Extract (and) Malpighia Glabra Fruit Extract, Parfum, Butylphenyl Methylpropional, CI 16185 (CI Food  Red 9), CI 19140 (CI Food Yellow 4)..            \",\"\\\\r\\\\n                Aqua, Cetearyl Alcohol, Cetrimonium Chloride, Shea Butter Cetyl Esters, PEG-90M, Parfum, Citrus Limon (Lemon) Fruit Extract,  Cymbopogon Schoenanthus Extract, Methylchloroisothiazolinone (and) Methylisothiazolinone, Panthenol,  Tocopheryl  Acetate,  Citric  Acid,  Disodium EDTA.            \",\"\\\\r\\\\n                Aqua, Cetearyl Alcohol, Cetrimonium Chloride, Shea Butter Cetyl Esters,  PEG-90M,  Parfum,  Pyrus Malus (Apple) Fruit Extract,  Sida Cordifolia Extract, Panthenol,  Tocopheryl  Acetate,  Methylchloroisothiazolinone (and) Methylisothiazolinone, Citric Acid,  Disodium EDTA.            \",\"\\\\r\\\\n                Aqua, Cetearyl Alcohol, Cetrimonium Chloride, Shea Butter Cetyl Esters, Parfum, PEG-90M, Bertholletia Excelsa Seed Oil, Mangifera Indica Seed Butter, Panthenol, Methylchloroisothiazolinone (and) Methylisothiazolinone, Citric Acid, Disodium EDTA.            \",\"\\\\r\\\\n                Aqua, Cetearyl Alcohol, Cetrimonium Chloride, Parfum, Shea Butter Cetyl Esters, Methylchloroisothiazolinone (and) Methylisothiazolinone, PEG-90M, Citric Acid, Disodium EDTA, Panthenol, Tocopheryl Acetate, Benzyl Salicylate, Butylphenyl Methylpropional, Hexyl Cinnamal.            \",\"\\\\r\\\\n                Aqua, Cetearyl Alcohol, Cetrimonium Chloride, Shea Butter Cetyl Esters, Parfum, PEG-90M, Passiflora Incarnata Fruit Extract, Oenocarpus Bataua Fruit Oil, Methylchloroisothiazolinone (and) Methylisothiazolinone, Panthenol, Citric Acid, Disodium EDTA.            \",\"\\\\r\\\\n                Aqua, Cetearyl Alcohol, Cetrimonium Chloride, Parfum, Shea Butter Cetyl Esters, Methylchloroisothiazolinone (and) Methylisothiazolinone, PEG-90M, Citric Acid, Disodium EDTA, Panthenol, Argania Spinosa Kernel Oil, Tocopheryl Acetate, Benzyl Salicylate, Hexyl Cinnamal.            \",\"\\\\r\\\\n                Aqua, Cetearyl Alcohol, Cetrimonium Chloride, Shea Butter Cetyl Esters, PEG-90M, Parfum, Cocos Nucifera Oil, Panthenol, Tocopheryl Acetate, Methylchloroisothiazolinone (and) Methylisothiazolinone, Citric Acid, Disodium EDTA.            \",\"\\\\r\\\\n                Aqua, Lavandula Angustifolia (Lavender) Flower/Leaf/Stem Water, Cetearyl Alcohol, Quaternium-91 (and) Cetrimonium Methosulfate (and) Cetearyl Alcohol, Shea Butter Cetyl Esters, Helianthus Annus (Sunflower) Seed Oil, Glycerin, Stearamidopropyl Dimethylamine, Citric Acid, Tocopherol, Benzyl Alcohol (and) Phenoxyethanol, Glycerin (and)  Capsicum Annuum Fruit Extract (and) Xanthan Gum, Parfum, Eugenol, CI 16255 (CI Food  Red 7), CI 19140(CI Food Yellow 4).            \",\"\\\\r\\\\n                Aqua, Cetearyl Alcohol, Cetrimonium Chloride, Shea Butter Cetyl Esters,  PEG-90M,  Parfum, Hylocereus  Undatus   Fruit Extract, Verbena Officinalis  Leaf  Extract,  Panthenol, Tocopheryl  Acetate,  Methylchloroisothiazolinone (and) Methylisothiazolinone, Citric Acid, Disodium EDTA.            \",\"\\\\r\\\\n                Aqua, Lavandula Angustifolia (Lavender) Flower/Leaf/Stem Water, Cetearyl Alcohol, Quaternium-91 (and) Cetrimonium Methosulfate (and) Cetearyl Alcohol, Shea Butter Cetyl Esters, Helianthus Annus (Sunflower) Seed Oil, Glycerin, Stearamidopropyl Dimethylamine, Citric Acid, Tocopherol, Benzyl Alcohol (and) Phenoxyethanol, Rosa Hybrid Flower Extract, Parfum, Citronellol, Geraniol, Linalool, CI 16185 (CI Food Red 9), CI 16035 (CI Food  Red 17).            \",\"\\\\r\\\\n                Aqua, Lavandula Angustifolia (Lavender) Flower/Leaf/Stem Water, Cetearyl Alcohol, Quaternium-91 (and) Cetrimonium Methosulfate (and) Cetearyl Alcohol, Shea Butter Cetyl Esters, Helianthus Annus (Sunflower) Seed Oil, Glycerin, Stearamidopropyl Dimethylamine, Citric Acid, Tocopherol, Benzyl Alcohol (and) Phenoxyethanol, Citrus Limon (Lemon) Fruit Extract, Parfum, Geraniol, Limonene, CI 19140 (CI Food Yellow 4), CI 15985 (CI Food  Yellow 3), CI 42090 (CI Food Blue 2).            \",\"\\\\r\\\\n                Aqua, Cetearyl Alcohol, Cetrimonium Chloride, Shea Butter Cetyl Esters, PEG-90M, Parfum, Citrus Tangerina (Tangerine) Extract, Zingiber Officinale (Ginger) Root Extract, Panthenol, Tocopheryl Acetate,  Methylchloroisothiazolinone (and) Methylisothiazolinone, Citric Acid,  Disodium EDTA, Hexyl Cinnamal.            \",\"\\\\r\\\\n                Aqua, Lavandula Angustifolia (Lavender) Flower/Leaf/Stem Water, Cetearyl Alcohol, Quaternium-91 (and) Cetrimonium Methosulfate (and) Cetearyl Alcohol, Shea Butter Cetyl Esters, Helianthus Annus (Sunflower) Seed Oil, Glycerin, Stearamidopropyl Dimethylamine, Citric Acid, Tocopherol, Benzyl Alcohol (and) Phenoxyethanol, Pyrus Communis (Pear) Fruit Extract, Parfum, Linalool, CI 16255 (CI Food  Red 7), CI 15985 (CI Food  Yellow 3).            \",\"\\\\r\\\\n                Aqua, Cetearyl Alcohol, Cetrimonium Chloride, Stearamidopropyl Dimethylamine, Shea Butter Cetyl Esters, Parfum, Pilocarpus Microphyllus Leaf Extract, Camellia Sinensis Leaf Extract, Methylchloroisothiazolinone (and) Methylisothiazolinone, Citric Acid, Panthenol, Tocopheryl Acetate, Citronellol, Hexyl Cinnamal, Linalool.            \",\"\\\\r\\\\n                Aqua, Cetearyl Alcohol, Cetrimonium Chloride,  Stearamidopropyl Dimethylamine, Shea Butter Cetyl Esters,  Parfum, Rhodiola Rosea Root Extract (and) Caesalpinia Spinosa Gum (and) Glycerin,  Panthenol,  Tocopheryl Acetate,   Citric Acid, Disodium EDTA, Methylchloroisothiazolinone (and) Methylisothiazolinone.            \",\"\\\\r\\\\n                Aqua, Cetearyl Alcohol, Cetrimonium Chloride, Stearamidopropyl Dimethylamine, Shea Butter Cetyl Esters, Parfum, Argania Spinosa Kernel Oil, Cocos Nucifera Oil, Oenocarpus Bataua Fruit Oil Amaranthus Caudatus Seed Extract (and) Zea Mays Starch, Tocopheryl Acetate, Panthenol, Methylchloroisothiazolinone (and) Methylisothiazolinone, Citric Acid, Amyl Cinnamal, Bezyl Salicylate, Butylphenyl Methylpropional, Coumarin, D-Limonene, Linalool.            \",\"\\\\r\\\\n                Aqua, Cetearyl Alcohol, Cetrimonium Chloride, Stearamidopropyl Dimethylamine, Shea Butter Cetyl Esters, Parfum, Hydrolyzed Rice Protein, Zea Mays (Corn) Starch, Hydrolyzed Wheat Protein (and) Hydrolyzed Soy Protein (and) Carbocysteine (and) Threonine (and) Serine (and) Glutamic Acid, Tocopheryl Acetate, Panthenol, Methylchloroisothiazolinone (and) Methylisothiazolinone,  Citric  Acid, Alpha-isomethyl Ionone, Benzyl Salicylate, Butylphenyl Methylpropional, Citronellol, Geraniol, Hexyl Cinnamal, Hydroxyisohexyl 3-cyclohexene Carboxaldehyde, Limonene, Linalool.            \",\"\\\\r\\\\n                Aqua, Cetearyl Alcohol, Cetrimonium Chloride, Shea Butter Cetyl Esters, Glyceryl Stearate, Parfum, Methylchloroisothiazolinone (and) Methylisothiazolinone, Citric Acid, Panthenol, Persea Gratissima Fruit Extract, Ricinus Communis (Castor) Seed Oil, Aloe Barbadensis Extract, Tocopheryl Acetate, Benzyl alcohol, Hexyl Cinnamal, CI 42.090 (FD&C Blue n\\\\xba1), CI 19.140 (FD&C Yellow n\\\\xba5).            \",\"\\\\r\\\\n                Aqua, Cetearyl Alcohol, Cetrimonium Chloride, Glyceryl Stearate, Shea Butter Cetyl Esthers, Parfum, Methylchloroisothiazolinone (and) Methylisothiazolinone, Citric Acid, Cinnamomum Zeylanicum Bark Extract (and) Acorus Calamus Root Extract (and) Commiphora Myrrha Resin Extract (and) Olea Europaea Fruit Oil, Panthenol, Tocopheryl Acetate.            \",\"\\\\r\\\\n                Aqua, Cetearyl Alcohol, Cetrimonium Chloride, Stearamidopropyl Dimethylamine, Shea Butter Cetyl Esters, Parfum, Daucus Carota Sativa (Carrot) oil, Molasses Extract (Saccharum Officinarum L), Amaranthus Caudatus Seed Extract (and) Zea Mays Starch, Ricinus Communis (Castor) Seed Oil, Panthenol, Tocopheryl Acetate, Methylchloroisothiazolinone (and) Methylisothiazolinone, Styrene/Acrylamide Copolymer, Citric Acid, Coumarin, Linalool, CI 19.140, CI 15.985.            \",\"\\\\r\\\\n                Aqua, Cetearyl Alcohol, Cetrimonium Chloride, Stearamidopropyl Dimethylamine, Shea Butter Cetyl Esters, Parfum,  Hydrolyzed Rice Protein, Theobroma Cacao Seed Butter, Cinnamomum Zeylanicum Bark Extract (and) Acorus Calamus Root Extract (and) Commiphora Myrrha Resin Extract (and) Olea Europaea Fruit Oil, Laureth-2 (and) Myreth-2 (and) Octyldodecanol (and) Cetyl Lactate (and) Prunus Amygdalus Dulcis Oil (and) Zea Mays Oil (and) Gossypium Herbaceum Seed Oil (and) Helianthus Annuus Seed Oil (and) Triticum Vulgare Germ Oil (and) Persea Gratissima Oil (and) Phospholipids (and) Squalene (and) Glyceryl Linoleate (and) Glyceryl Linolenate (and) Tocopheryl Acetate, Cocos Nucifera Oil, Hydrolyzed Soy Protein, Porphyra Umbilicalis Extract (and) Caesalpinia Spinosa Gum, Hydrolyzed Wheat Protein, Hydrolyzed Corn Protein (and)  Hydrolyzed Soy Protein (and) Hydrolyzed Wheat Protein, Argania Spinosa Kernel Oil, Ricinus Communis (Castor) Seed Oil, Vegetable Milk (Cocos Nucifera (Coconut) Fruit Extract  (and) Cocos Nucifera (Coconut) Oil), Tocopheryl Acetate,  Panthenol, Methylchloroisothiazolinone (and) Methylisothiazolinone, Citric Acid, Hexyl Cinnamal, Linalool.            \",\"\\\\r\\\\n                Aqua, Cetearyl Alcohol, Cetrimonium Chloride, Glyceryl Stearate, Shea Butter Cetyl Esters, Parfum, Hyaluronic Acid, Retinyl Palmitate, Tocopheryl Acetate, Panthenol, Argania Spinosa Kernel Oil, Ricinus Communis (Castor) Seed Oil, Hydrolyzed Wheat Protein (and) Hydrolyzed Soy Protein (and) Hydrolyzed Corn Protein, Citric Acid, Methylchloroisothiazolinone (and) Methylisothiazolinone, Citronellol, Geraniol            \",\"\\\\r\\\\n                Aqua, Cetearyl Alcohol, Cetrimonium Chloride, Stearamidopropyl Dimethylamine, Shea Butter Cetyl Esters, Parfum, Glycerin, Ricinus Communis (Castor) Seed Oil, Methylchloroisothiazolinone (and) Methylisothiazolinone, Argania Spinosa Kernel Oil, Citric Acid, Tocopheryl Acetate, Panthenol, Coumarin, Linalool.            \",\"\\\\r\\\\n                Aqua, Cetearyl Alcohol, Cetrimonium Chloride, Glyceryl Stearate, Shea Butter Cetyl Esters, Parfum, Laureth-2 (and) Myreth-2 (and) Octyldodecanol (and) Cetyl Lactate (and) Prunus Amygdalus Dulcis Oil (and) Zea Mays Oil (and) Gossypium Herbaceum Seed Oil (and) Helianthus Annuus Seed Oil (and) Triticum Vulgare Germ Oil (and) Persea Gratissima Oil (and) Phospholipids (and) Squalene (and) Glyceryl Linoleate (and) Glyceryl Linolenate (and) Tocopheryl Acetate, Hydrolyzed Rice Protein, Saccharum Officinarum Extract, Persea Gratissima Fruit Extract, Argania Spinosa Kernel Oil, Theobroma Cacao Seed Butter, Astrocaryum Murumuru Seed Butter/Tocopherol, Oenocarpus Bataua Fruit Oil, Hydrolyzed Wheat Protein, Hydrolyzed Corn Protein (and) Hydrolyzed Soy Protein (and) Hydrolyzed Wheat Protein, Panthenol, Tocopheryl Acetate, Citric Acid, Methylchloroisothiazolinone (and) Methylisothiazolinone, Hexyl Cinnamal.            \",\"\\\\r\\\\n                Aqua, Cetearyl Alcohol, Cetrimonium Chloride, Stearamidopropyl Dimethylamine, Shea Butter Cetyl Esters, Zea Mays (Corn) Starch, Parfum, Methylchloroisothiazolinone (and) Methylisothiazolinone, Disodium EDTA, Citric Acid, Cocos Nucifera Oil, Panthenol, Tocopheryl Acetate, Butylphenyl Methylpropional, Linalool.            \",\"\\\\r\\\\n                Aqua, Cetearyl Alcohol, Cetrimonium Chloride, Stearamidopropyl Dimethylamine, Shea Butter Cetyl Esters, Parfum, Aloe Barbadensis Extract, Panthenol, Methylchloroisothiazolinone (and) Methylisothiazolinone, Citric Acid, Tocopheryl Acetate, Hexyl Cinnamal.            \",\"\\\\r\\\\n                Aqua, Cetearyl Alcohol, Cetrimonium Chloride, Stearamidopropyl Dimethylamine, Shea Butter Cetyl Esters, Parfum, Musa Sapientum (Banana) Fruit Extract, Platonia Insignis Seed Butter (and) Tocopherol, Panthenol, Aloe Barbadensis Extract, Methylchloroisothiazolinone (and) Methylisothiazolinone, Citric Acid, Hexyl Cinnamal, Linalool.            \",\"\\\\r\\\\n                Aqua, Cetearyl Alcohol, Cetrimonium Chloride, Stearamidopropyl Dimethylamine, Shea Butter Cetyl Esters, Parfum, Coffea Arabica Seed Extract, Virola Surinamensis Seed Butter (and) Tocopherol, Methylchloroisothiazolinone (and) Methylisothiazolinone, Panthenol, Citric Acid, Disodium EDTA, Benzyl Salicylate, Hexyl Cinnamal, Linalool, Alpha-Isomethyl Ionone.            \",\"\\\\r\\\\n                Aqua, Cetearyl Alcohol, Cetrimonium Chloride, Stearamidopropyl Dimethylamine, Shea Butter Cetyl Esters, Parfum, Anacardium Occidentale (Cashew) Extract, Astrocaryum Murumuru Seed Butter/Tocopherol,  Methylchloroisothiazolinone (and) Methylisothiazolinone, Citric Acid, Disodium EDTA,  Panthenol,   Hexyl Cinnamal, Alpha-Isomethyl Ionone, Isoeugenol.            \",\"\\\\r\\\\n                Aqua, Cetearyl Alcohol, Cetrimonium Chloride, Shea Butter Cetyl Esters, Glyceryl Stearate, Parfum, Ceramidas G\\\\xb3* (Laureth-2 (and) Mireth-2 (and) Octyldodecanol (and) Cetyl Lactate (and) Prunus Amygdalus Dulcis Oil (and) Zea Mays Oil (and) Gossypium Herbaceum Seed Oil (and) Helianthus Annuus Seed Oil (and) Triticum Vulgare Germ Oil (and) Persea Gratissima Oil (and) Phospholipids (and) Squalene (and) Glyceryl Linoleate (and) Glyceryl Linolenate (and) Tocopheryl Acetate), Panthenol, Tocopheryl Acetate, Citric Acid, Methylchloroisothiazolinone (and) Methylisothiazolinone.            \",\"\\\\r\\\\n                Aqua, Cetearyl Alcohol, Cetrimonium Chloride, Stearamidopropyl Dimethylamine, Astrocaryum Vulgare Kernel Oil (and) Tocopherol, Parfum, Euterpe Oleracea Fruit Extract, Molasses Extract (Saccharum Officinarum L), Paullinia Cupana Seed Extract, Methylchloroisothiazolinone (and) Methylisothiazolinone, Citric Acid, Panthenol, Alpha-Isomethyl Ionone.            \",\"\\\\r\\\\n                Aqua, Cetearyl Alcohol, Cetrimonium Chloride, Shea Butter Cety Esters, Parfum, Methylchloroisothiazolinone (and) Methylisothiazolinone, Ananas Sativus (Pineapple) Fruit Extract, Cocos Nucifera Fruit Juice, Morus Nigra Fruit Extract, Citric Acid,  CI 16.255, CI 19.140, CI 77.019/77.891.            \",\"\\\\r\\\\n                Aqua, Cetearyl Alcohol, Cetrimonium Chloride, Stearamidopropyl Dimethylamine, Shea Butter Cetyl Esters, Parfum, Methylchloroisothiazolinone (and) Methylisothiazolinone, Disodium EDTA, Citric Acid, Porphyra Umbilicalis Extract (and) Caesalpinia Spinosa Gum, Ricinus Communis (Castor) Seed Oil, Argania Spinosa Kernel Oil, Hydroxypropyltrimonium Corn/Wheat/Soy Amino Acids, Panthenol, Tocopheryl Acetate, Benzyl Benzoate, Benzyl Salicylate, Coumarin, Hexyl Cinnamal, Limonene, Alpha-isomethyl Ionone, Butylphenyl Methylpropional.            \",\"\\\\r\\\\n                Aqua, Cetearyl Alcohol, Cetrimonium Chloride, Stearamidopropyl Dimethylamine, Shea Butter Cetyl Esters, Parfum, Cocos Nucifera Oil, Linum Usitatissimum Seed Oil, Panthenol, Tocopheryl, Acetate, Methylchloroisothiazolinone (and) Methylisothiazolinone, Citric Acid, Alpha-Isomethyl Ionone.            \",\"\\\\r\\\\n                Aqua, Cetearyl Alcohol, Cetrimonium Chloride, Glyceryl Stearate, Shea Butter Cetyl Esters, Linum Usitatissimum Seed Oil, Stearamidopropyl Dimethylamine, Zea Mays (Corn) Starch, Parfum, Helianthus Annus (Sunflower) Seed Oil, Cocos Nucifera Oil, Persea Gratissima (Avocado) Oil, Panthenol, Tocopheryl Acetate, Citric Acid, Methylchloroisothiazolinone (and) Methylisothiazolinone, Dissodium Edta.            \",\"\\\\r\\\\n                Aqua, Cetearyl Alcohol, Cetrimonium Chloride, Glyceryl Stearate, Shea Butter Cetyl Esthers, Parfum, Methylchloroisothiazolinone (and) Methylisothiazolinone, Citric Acid, Vegetable Milk (Cocos Nucifera (Coconut) Fruit Extract (and) Nucifera (Coconut) Oil), Panthenol, Tocopheryl Acetate.            \",\"\\\\r\\\\n                Aqua, Cetearyl Alcohol, Cetrimonium Chloride, Stearamidopropyl Dimethylamine, Shea Butter Cetyl Esters, Parfum, Bertholletia Excelsa Seed Oil, Mangifera Indica Seed Butter, Methylchloroisothiazolinone (and) Methylisothiazolinone, Citric Acid, Disodium EDTA, Panthenol, Limonene, Linalool.            \",\"\\\\r\\\\n                Aqua, Cetearyl Alcohol, Cetrimonium Chloride, Glyceryl Stearate, Shea Butter Cetyl Esthers, Parfum, Methylchloroisothiazolinone (and) Methylisothiazolinone, Citric Acid, Panthenol, Tocopheryl Acetate, Benzyl Salicylate, Butylphenyl Methylpropional, Hexyl Cinnamal.            \",\"\\\\r\\\\n                Aqua, Cetearyl Alcohol, Cetrimonium Chloride, Stearamidopropyl Dimethylamine, Shea Butter Cetyl Esters, Parfum, Passiflora Incarnata Fruit Extract, Oenocarpus Bataua Fruit Oil, Methylchloroisothiazolinone (and) Methylisothiazolinone, Citric Acid, Disodium EDTA, Panthenol, Alpha-Isomethyl Ionone, Linalool.            \",\"\\\\r\\\\n                Aqua, Cetearyl Alcohol, Cetrimonium Chloride, Glyceryl Stearate, Shea Butter Cetyl Esters, Parfum, Methylchloroisothiazolinone (and) Methylisothiazolinone, Citric Acid, Argania Spinosa Kernel Oil, Panthenol, Tocopheryl Acetate, Benzyl Salicylate, Hexyl Cinnamal.            \",\"\\\\r\\\\n                Aqua, Cetearyl Alcohol, Cetrimonium Chloride, Shea Butter Cetyl  Esters,  Parfum, Methylchloroisothiazolinone (and) Methylisothiazolinone, Citric Acid,  Panthenol, Cocos Nucifera Oil, Tocopheryl Acetate.            \",\"\\\\r\\\\n                Aqua, Lavandula Angustifolia (Lavender) Flower/Leaf/Stem Water, Cetearyl Alcohol, Quaternium-91 (and) Cetrimonium Methosulfate (and) Cetearyl Alcohol, Shea Butter Cetyl Esters, Helianthus Annus (Sunflower) Seed Oil, Glycerin, Zea Mays Starch (and) Cystoseira Compressa Extract, Stearamidopropyl Dimethylamine, Citric Acid, Tocopherol, Benzyl Alcohol (and) Phenoxyethanol, Glycerin (and)  Capsicum Annuum Fruit Extract (and) Xanthan Gum, Parfum, Eugenol, Limonene.            \",\"\\\\r\\\\n                Aqua, Cetearyl Alcohol, Cetrimonium Chloride, Stearamidopropyl Dimethylamine, Shea Butter Cetyl Esters, Parfum, Methylchloroisothiazolinone (and) Methylisothiazolinone, Disodium EDTA, Citric Acid, Argania Spinosa Kernel Oil, Ricinus Communis (Castor) Seed Oil, Cocos Nucifera Oil, Panthenol, Tocopheryl Acetate, Hexyl Cinnamal, Hydroxycitronellal.            \",\"\\\\r\\\\n                Aqua, Cetearyl Alcohol, Cetrimonium Chloride, Shea Butter Cetyl Esters,  Parfum, Citrus Tangerina (Tangerine) Extract,  Zingiber  Officinale  (Ginger) Root Extract, Panthenol, Tocopheryl Acetate, Methylchloroisothiazolinone (and) Methylisothiazolinone,  Citric Acid, Hexyl Cinnamal, Limonene, Linalool.            \",\"\\\\r\\\\n                Aqua, Cetearyl Alcohol, Cetrimonium Chloride, Linum Usitatissimum Seed Extract (and) Algin (and) Glyceryl Oleate Citrate (and) Caprylic/Capric Triglyceride, Stearamidopropyl Dimethylamine, Shea Butter Cetyl Esters, Parfum, Rhodiola Rosea Root Extract (and) Caesalpinia Spinosa Gum (and) Glycerin,  Panthenol, Tocopheryl Acetate, Citric Acid, Disodium EDTA, Benzyl Alcohol  (and) Phenoxyethanol, Alpha-Isomethyl Ionone, Citronellol, Hexyl Cinnamal, Hydroxycitronellal, Limonene, Linalool.            \",\"\\\\r\\\\n                Aqua, Cetearyl Alcohol, Cetrimonium Chloride, Shea Butter Cetyl Esters, Linum Usitatissimum Seed Extract (and) Algin (and) Glyceryl Oleate Citrate (and) Caprylic/Capric Triglyceride, Parfum, Hyaluronic Acid, Retinyl Palmitate, Tocopheryl Acetate, Panthenol, Argania Spinosa Kernel Oil, Ricinus Communis (Castor) Seed Oil, Hydrolyzed Wheat Protein (and) Hydrolyzed Soy Protein (and) Hydrolyzed Corn Protein, Citric Acid, Benzyl Alcohol (and) Phenoxyethanol, Citronellol, D-Limonene, Geraniol, Linalool.            \",\"\\\\r\\\\n                Aqua, Cetearyl Alcohol, Cetrimonium Chloride, Linum Usitatissimum Seed Extract (and) Algin (and) Glyceryl Oleate Citrate (and) Caprylic/Capric Triglyceride, Stearamidopropyl Dimethylamine, Shea Butter Cetyl Esters, Parfum, Ricinus Communis (Castor) Seed Oil, Methylchloroisothiazolinone (and) Methylisothiazolinone, Argania Spinosa Kernel Oil, Citric Acid, Tocopheryl Acetate, Panthenol, Coumarin, Linalool.            \",\"\\\\r\\\\n                Aqua, Cetearyl Alcohol, Cetrimonium Chloride, Shea Butter Cetyl Esters, Linum Usitatissimum Seed Extract (and) Algin (and) Glyceryl Oleate Citrate (and) Caprylic/Capric Triglyceride, Parfum, Methylchloroisothiazolinone (and) Methylisothiazolinone, Citric Acid, Panthenol, Persea Gratissima Fruit Extract, Ricinus Communis (Castor) Seed Oil, Aloe Barbadensis Extract, Tocopheryl Acetate, Alpha-isomethyl Ionone, Amyl Cinnamal, Benzyl Alcohol, Benzyl Salicylate, Citronellol, Hexyl Cinnamal, Linalool.            \",\"\\\\r\\\\n                Aqua, Cetearyl Alcohol, Cetrimonium Chloride, Stearamidopropyl Dimethylamine, Shea Butter Cetyl Esters, Linum Usitatissimum Seed Extract (and) Algin (and) Glyceryl Oleate Citrate (and) Caprylic/Capric Triglyceride, Parfum, Cocos Nucifera Oil, Zea Mays (Corn) Starch, Methylchloroisothiazolinone (and) Methylisothiazolinone, Citric Acid, Tocopheryl Acetate, Panthenol, Linalool.            \",\"\\\\r\\\\n                Aqua, Cetearyl Alcohol, Cetrimonium Chloride, Linum Usitatissimum Seed Extract (and) Algin (and) Glyceryl Oleate Citrate (and) Caprylic/Capric Triglyceride,Shea Butter Cetyl Esters, Parfum, Methylchloroisothiazolinone (and) Methylisothiazolinone, Citric Acid, Ceramidas G3* (Laureth-2 (and) Myreth-2 (and) Octyldodecanol (and) Cetyl Lactate (and) Prunus Amygdalus Dulcis Oil (and) Zea Mays Oil (and) Gossypium Herbaceum Seed Oil (and) Helianthus Annuus Seed Oil (and) Triticum Vulgare Germ Oil (and) Persea Gratissima Oil (and) Phospholipids (and) Squalene (and) Glyceryl Linoleate (and) Glyceryl Linolenate, Panthenol, Tocopheryl Acetate, Alpha-isomethyl Ionone, Citronellol, Hexyl Cinnamal, Linalool.            \",\"\\\\r\\\\n                Aqua, Cetearyl Alcohol, Cetrimonium Chloride, Linum Usitatissimum Seed Extract (and) Algin (and) Glyceryl Oleate Citrate (and) Caprylic/Capric Triglyceride, Stearamidopropyl Dimethylamine, Shea Butter Cetyl Esters, Parfum, Methylchloroisothiazolinone (and) Methylisothiazolinone, Citric Acid, Porphyra Umbilicalis Extract (and) Caesalpinia Spinosa Gum, Ricinus Communis (Castor) Seed Oil, Argania Spinosa Kernel Oil, Hydroxypropryltrimonium Corn/Wheat/Soy Amino Acids, Panthenol, Tocopheryl Acetate, Benzyl Benzoate, Benzyl Salicylate, Coumarin, Hexyl Cinnamal, Limonene, Alpha-isomethyl Ionone.            \",\"\\\\r\\\\n                Aqua, Cetearyl Alcohol, Cetrimonium Chloride, Stearamidopropyl Dimethylamine, Shea Butter Cetyl Esters, Parfum, Cocos Nucifera Oil, Linum Usitatissimum Seed Oil, Panthenol, Tocopheryl, Acetate, Methylchloroisothiazolinone (and) Methylisothiazolinone, Citric Acid, Alpha-Isomethyl Ionone.            \",\"\\\\r\\\\n                Aqua, Cetearyl Alcohol, Cetrimonium Chloride, Glyceryl Stearate, Linum Usitatissimum Seed Extract (and) Algin (and) Glyceryl Oleate Citrate (and) Caprylic/Capric Triglyceride, Shea Butter Cetyl Esters, Linum Usitatissimum Seed Oil, Stearamidopropyl Dimethylamine, Zea Mays (Corn) Starch, Parfum, Helianthus Annus (Sunflower) Seed Oil, Cocos Nucifera Oil, Persea Gratissima (Avocado) Oil, Panthenol, Tocopheryl Acetate, Citric Acid, Methylchloroisothiazolinone (and) Methylisothiazolinone.            \",\"\\\\r\\\\n                Aqua, Hydroxyethylcellulose, Glycerin, Polyquaternium-10, PEG-90M, Cetrimonium Chloride, Parfum, Methylchloroisothiazolinone (and) Methylisothiazolinone, Panthenol, Ricinus Communis (Castor) Seed Oil,  Argania Spinosa Kernel Oil,  Tocopheryl Acetate, Disodium EDTA, Coumarin, Limonene, Linalool, CI14.720.            \",\"\\\\r\\\\n                Aqua,Ceteareth-20, Glycerin, PropyleneGlycol, Acrylates/OctylacrylamideCopolymer, AminomethylPropanol,Polysorbate 20, Parfum, Triclosan,Methylchloroisothiazolinone (and) Methylisothiazolinone, RicinusCommunis (Castor) SeedOil, CalendulaOfficinalisFlowerExtract, Aloe BarbadensisLeafExtract, MelaleucaAlternif\\\\xf3lia (Tea Tree) LeafOil, BenzylSalicylate, Citronellol, Coumarin, Geraniol, Limonene, Linalool, Butylphenyl Methylpropional, CI 42.090.            \",\"\\\\r\\\\n                Aqua, Tribehenin PEG-20 Esters, Propylene Glycol, Acrylates / C10-30 Alkyl Acrylate Crosspolymer, Aminomethyl Propanol, PEG-90M, Triclosan, Parfum, Methylisothiazolinone (and) Phenoxyethanol, Allantoin, Ricinus Communis (Castor) Seed Oil, Calendula Officinalis Flower Extract, Aloe Barbadensis Leaf Extract, Benzyl Salicylate, Citronellol, Coumarin, Geraniol, Limonene, Linalool, Butylphenyl Methylpropional.            \",\"\\\\r\\\\n                C13-15 Alkane, Paraffinum Liquidum, Dimethicone (and) Dimethicone/Vinyl Dimethicone Crosspolymer, Parfum, Triclosan, Ricinus Communis (Castor) Seed Oil, Calendula Officinalis Flower Extract, Aloe Barbadensis Leaf Extract, Benzyl Salicylate, Citronellol, Coumarin, Geraniol, Limonene, Linalool, Butylphenyl Methylpropional.            \",\"\\\\r\\\\n                Aqua,  Olus Oil, Cetyl Alcohol, Ozoquerite Wax, Glyceryl Stearate, Shea Butter Cetyl Esters, Ceteareth-20, Copernicia Cerifera Wax, Glycerin, PEG-90M, Polyvinylpyrrolidone, Parfum, Dissodium EDTA,  Methylchloroisothiazolinone (and) Methylisothiazolinone, Butylhydroxytoluene, Melaleuca Alternif\\\\xf3lia (Tea Tree) Leaf Oil, Calendula Officinalis Flower Extract, Ricinus Communis (Castor) Seed Oil, Aloe Barbadensis Leaf Extract, Benzyl Salicylate, Citronellol, Coumarin, Geraniol, Limonene, Linalool, Butylphenyl Methylpropional.            \",\"\\\\r\\\\n                Aqua, Disodium Laureth Sulfosuccinate, Disodium Cocoyl Glutamate, Cocamidopropyl Betaine, Hydroxyethylcellulose, PEG-90M, Parfum, Methylchloroisothiazolinone (and) Methylisothiazolinone, Disodium EDTA, Triclosan, Ricinus Communis (Castor) Seed Oil, Calendula Officinalis Flower Extract, Aloe Barbadensis Leaf Extract, Citric Acid, Benzyl Salicylate.            \"],\"Mask\":[false,false,false,false,false,false,false,false,false,false,false,false,false,false,false,false,false,false,false,false,false,false,false,false,false,false,false,false,false,false,false,false,false,false,false,false,false,false,false,false,false,false,false,false,false,false,false,false,false,true,true,true,true,true,true,true,true,true,true,true,true,true,true,true,true,true,true,true,true,true,true,true,true,true,true,true,true,true,true,true,false,false,false,false,false,false,false,false,false,false,false,false,false,false,false],\"Product_name\":[\"Shampoo Shampoo Camomila\",\"Shampoo Skala Genetiqs\",\"Shampoo #MaisLisos\",\"Shampoo Abacate\",\"Shampoo Crespinho Divino\",\"Shampoo 12 em 1\",\"Shampoo Amido de Milho\",\"Shampoo Anticaspa Prebi\\\\xf3tico 2 em 1\",\"Shampoo Caju e Murumuru\",\"Shampoo Crespo Divino\",\"Shampoo Lim\\\\xe3o Siciliano e Capim Santo\",\"Shampoo Ma\\\\xe7\\\\xe3 Verde e Malva\",\"Shampoo \\\\xd3leo de Argan\",\"Shampoo \\\\xd3leo de Coco\",\"Shampoo Pitaya e Verbena\",\"Shampoo Tangerina e Gengibre\",\"Shampoo Uso Di\\\\xe1rio\",\"Condicionador Condicionador Camomila\",\"Condicionador Jaborandi\",\"Condicionador Skala Genetiqs\",\"Condicionador #MaisLisos\",\"Condicionador Abacate\",\"Condicionador Crespinho Divino\",\"Condicionador Bomba de Vitaminas\",\"Condicionador #Mais Cachos\",\"Condicionador 12 em 1\",\"Condicionador Amido de Milho\",\"Condicionador Avocado\",\"Condicionador Babosa\",\"Condicionador Banana e Bacuri\",\"Condicionador Caf\\\\xe9 Verde e Ucuuba\",\"Condicionador Caju e Murumuru\",\"Condicionador Ceramidas\",\"Condicionador Crespo Divino\",\"Condicionador English Garden\",\"Condicionador English Tea\",\"Condicionador Lim\\\\xe3o Siciliano e Capim Santo\",\"Condicionador Ma\\\\xe7\\\\xe3 Verde e Malva\",\"Condicionador Manga e Castanha-do-Par\\\\xe1\",\"Condicionador Manteiga de Karit\\\\xe9\",\"Condicionador Maracuj\\\\xe1 e \\\\xd3leo de Patau\\\\xe1\",\"Condicionador \\\\xd3leo de Argan\",\"Condicionador \\\\xd3leo de Coco\",\"Condicionador Pepper Force\",\"Condicionador Pitaya e Verbena\",\"Condicionador Rose Essence\",\"Condicionador Sicilian Lemon\",\"Condicionador Tangerina e Gengibre\",\"Condicionador Yellow Pear\",\"Creme de Tratamento Jaborandi\",\"Creme de Tratamento Skala Genetiqs\",\"Creme de Tratamento #MaisCrespos\",\"Creme de Tratamento #MaisLisos\",\"Creme de Tratamento Abacate\",\"Creme de Tratamento Banho de Cristal\",\"Creme de Tratamento Maionese Capilar Nutritiva\",\"Creme de Tratamento Pot\\\\xe3o do Amor\",\"Creme de Tratamento Bomba de Vitaminas\",\"Creme de Tratamento #Mais Cachos\",\"Creme de Tratamento 12 em 1\",\"Creme de Tratamento Amido de Milho\",\"Creme de Tratamento Babosa\",\"Creme de Tratamento Banana e Bacuri\",\"Creme de Tratamento Caf\\\\xe9 Verde e Ucuuba\",\"Creme de Tratamento Caju e Murumuru\",\"Creme de Tratamento Ceramidas\",\"Creme de Tratamento Coquetel Brasil\",\"Creme de Tratamento Coquetel de Frutas\",\"Creme de Tratamento Divino Pot\\\\xe3o\",\"Creme de Tratamento Divino Potinho Kids\",\"Creme de Tratamento Dona Skala\",\"Creme de Tratamento Leite Vegetal\",\"Creme de Tratamento Manga e Castanha-do-Par\\\\xe1\",\"Creme de Tratamento Manteiga de Karit\\\\xe9\",\"Creme de Tratamento Maracuj\\\\xe1 e \\\\xd3leo de Patau\\\\xe1\",\"Creme de Tratamento \\\\xd3leo de Argan\",\"Creme de Tratamento \\\\xd3leo de Coco\",\"Creme de Tratamento Pepper Force\",\"Creme de Tratamento Pot\\\\xe3o Desmaiado\",\"Creme de Tratamento Tangerina e Gengibre\",\"Creme para Pentear Skala Genetiqs\",\"Creme para Pentear Bomba de Vitaminas\",\"Creme para Pentear #Mais Cachos\",\"Creme para Pentear Abacate\",\"Creme para Pentear Amido de Milho\",\"Creme para Pentear Ceramidas\",\"Creme para Pentear Crespo Divino\",\"Creme para Pentear Divino Potinho Kids\",\"Creme para Pentear Dona Skala\",\"Day After Gel L\\\\xedquido #Mais Cachos\",\"Barba Cera Modeladora\",\"Barba Lo\\\\xe7\\\\xe3o Balm\",\"Barba \\\\xd3leo\",\"Barba Pomada Modeladora\",\"Barba Shampoo\"],\"Product_type\":[\"Shampoo\",\"Shampoo\",\"Shampoo\",\"Shampoo\",\"Shampoo\",\"Shampoo\",\"Shampoo\",\"Shampoo\",\"Shampoo\",\"Shampoo\",\"Shampoo\",\"Shampoo\",\"Shampoo\",\"Shampoo\",\"Shampoo\",\"Shampoo\",\"Shampoo\",\"Conditioner\",\"Conditioner\",\"Conditioner\",\"Conditioner\",\"Conditioner\",\"Conditioner\",\"Conditioner\",\"Conditioner\",\"Conditioner\",\"Conditioner\",\"Conditioner\",\"Conditioner\",\"Conditioner\",\"Conditioner\",\"Conditioner\",\"Conditioner\",\"Conditioner\",\"Conditioner\",\"Conditioner\",\"Conditioner\",\"Conditioner\",\"Conditioner\",\"Conditioner\",\"Conditioner\",\"Conditioner\",\"Conditioner\",\"Conditioner\",\"Conditioner\",\"Conditioner\",\"Conditioner\",\"Conditioner\",\"Conditioner\",\"Mask\",\"Mask\",\"Mask\",\"Mask\",\"Mask\",\"Mask\",\"Mask\",\"Mask\",\"Mask\",\"Mask\",\"Mask\",\"Mask\",\"Mask\",\"Mask\",\"Mask\",\"Mask\",\"Mask\",\"Mask\",\"Mask\",\"Mask\",\"Mask\",\"Mask\",\"Mask\",\"Mask\",\"Mask\",\"Mask\",\"Mask\",\"Mask\",\"Mask\",\"Mask\",\"Mask\",\"Comb_cream\",\"Comb_cream\",\"Comb_cream\",\"Comb_cream\",\"Comb_cream\",\"Comb_cream\",\"Comb_cream\",\"Comb_cream\",\"Comb_cream\",\"Gel\",\"Beard\",\"Beard\",\"Beard\",\"Beard\",\"Beard\"],\"Shampoo\":[true,true,true,true,true,true,true,true,true,true,true,true,true,true,true,true,true,false,false,false,false,false,false,false,false,false,false,false,false,false,false,false,false,false,false,false,false,false,false,false,false,false,false,false,false,false,false,false,false,false,false,false,false,false,false,false,false,false,false,false,false,false,false,false,false,false,false,false,false,false,false,false,false,false,false,false,false,false,false,false,false,false,false,false,false,false,false,false,false,false,false,false,false,false,true],\"X\":{\"__ndarray__\":\"zI6/QG3qSEHnQGFBETUdQcTG+EAnJWdBjcg2QW/jN0H/T0ZBegltQb0jokGPUpRBz+BdQSDEN0Hn66FBfqWVQYmfjEHITLQ/8wtcvtuMa8DcPQJAsI6rQHm8CsFdQ89A/s2CQFiMO0HIAWrACar9wLCtIb/uDpfASNTwvx9oaT4iZOm+OfiAQMxna8Ctae7AxYWevw0ahT/13hzAbrycvyIpLL7e+CPAXkkUwHyXUcCFqrQ/AGGzwKW018DVD4I/KyOxwKHEGsGCjaXA1xZawcsv3sD9O7hAWEblwLG7hMERWIPBXW3CQEQpfsEgSChB5Twywe6E58A4v+HAIkDvwOEXK8EzKLnAUa8YwXaiTT/dDGzBjk02wdywUcHgvO7AqmxlwDCVqsCV9cDAvJmCwHCCz8Dn6orAJS4JweiSEsACGgnBEyIRwXqObMEh5m7A0hg7wUI1t8BwRXbBbEpAwUsjQMEcfJbBKjy2wZ5rtsHRmrnBd13JwYyyL0A=\",\"dtype\":\"float32\",\"order\":\"little\",\"shape\":[95]},\"Y\":{\"__ndarray__\":\"xAUnQRKw9kCj7TNB0uzUQHN5H0HXJURALi4kQesUVkG5wq5Av2fbQGED7EC3GwZBjAMQQbKKCkE9CRNBM8TPQNlTO0EhXxdBfX+nQGm1EMBYIKRAzzsHQJdr+D+bh/DAKpc/wFLOEcH0I7A+9r+kwaUMnj8ZBZjAxnmSwOTHj8BrQk2/kHhjv9+ntcFsHrbBpxMbwMV/FcDPudPA++1SQMaI2cBI8B5A/GEHvzE2psGlpO69QCu/wf1DnMF5ECdAnSCswThxZMA3ycu/cpxMwHgxV0HbDWRAj0aKQCcKoT/+m8rAH3oSwY4nvb8m+ezAGZSiv48mHcC8fZbAL6HnwIso1EAoZipAY3YgwXoUNMHPDxtBZLPfwLmJdEBXRrhAykkJwRfPwkBhdg7BjriIQBesRj9p+JvBLuQov6nT5UB/tCJBPNVowaF9Jr/VOS5BCnm6PlQjGkH9wwZBHQ0BwYSGP0BxIw7AJiyMP2zCjUApYFVA6RCPQP3hxsA=\",\"dtype\":\"float32\",\"order\":\"little\",\"shape\":[95]},\"index\":[0,1,2,3,4,5,6,7,8,9,10,11,12,13,14,15,16,17,18,19,20,21,22,23,24,25,26,27,28,29,30,31,32,33,34,35,36,37,38,39,40,41,42,43,44,45,46,47,48,49,50,51,52,53,54,55,56,57,58,59,60,61,62,63,64,65,66,67,68,69,70,71,72,73,74,75,76,77,78,79,80,81,82,83,84,85,86,87,88,89,90,91,92,93,94]},\"selected\":{\"id\":\"1049\"},\"selection_policy\":{\"id\":\"1048\"}},\"id\":\"1003\",\"type\":\"ColumnDataSource\"},{\"attributes\":{\"fill_alpha\":{\"value\":0.1},\"fill_color\":{\"field\":\"Product_type\",\"transform\":{\"id\":\"1033\"}},\"hatch_alpha\":{\"value\":0.1},\"hatch_color\":{\"field\":\"Product_type\",\"transform\":{\"id\":\"1033\"}},\"line_alpha\":{\"value\":0.1},\"line_color\":{\"field\":\"Product_type\",\"transform\":{\"id\":\"1033\"}},\"size\":{\"value\":10},\"x\":{\"field\":\"X\"},\"y\":{\"field\":\"Y\"}},\"id\":\"1036\",\"type\":\"Circle\"},{\"attributes\":{},\"id\":\"1021\",\"type\":\"PanTool\"},{\"attributes\":{\"overlay\":{\"id\":\"1026\"}},\"id\":\"1024\",\"type\":\"BoxSelectTool\"},{\"attributes\":{},\"id\":\"1022\",\"type\":\"WheelZoomTool\"},{\"attributes\":{\"fill_alpha\":{\"value\":0.8},\"fill_color\":{\"field\":\"Product_type\",\"transform\":{\"id\":\"1033\"}},\"hatch_alpha\":{\"value\":0.8},\"hatch_color\":{\"field\":\"Product_type\",\"transform\":{\"id\":\"1033\"}},\"line_alpha\":{\"value\":0.8},\"line_color\":{\"field\":\"Product_type\",\"transform\":{\"id\":\"1033\"}},\"size\":{\"value\":10},\"x\":{\"field\":\"X\"},\"y\":{\"field\":\"Y\"}},\"id\":\"1035\",\"type\":\"Circle\"},{\"attributes\":{\"axis\":{\"id\":\"1013\"},\"coordinates\":null,\"group\":null,\"ticker\":null},\"id\":\"1016\",\"type\":\"Grid\"},{\"attributes\":{\"callback\":null},\"id\":\"1023\",\"type\":\"TapTool\"},{\"attributes\":{\"coordinates\":null,\"group\":null},\"id\":\"1040\",\"type\":\"Title\"},{\"attributes\":{\"background_fill_alpha\":0.5,\"border_line_width\":3,\"coordinates\":null,\"group\":null,\"items\":[{\"id\":\"1052\"}],\"location\":\"bottom_right\"},\"id\":\"1051\",\"type\":\"Legend\"},{\"attributes\":{},\"id\":\"1014\",\"type\":\"BasicTicker\"},{\"attributes\":{},\"id\":\"1049\",\"type\":\"Selection\"},{\"attributes\":{\"source\":{\"id\":\"1003\"}},\"id\":\"1039\",\"type\":\"CDSView\"},{\"attributes\":{},\"id\":\"1011\",\"type\":\"LinearScale\"},{\"attributes\":{\"axis_label\":\"Y\",\"coordinates\":null,\"formatter\":{\"id\":\"1043\"},\"group\":null,\"major_label_policy\":{\"id\":\"1044\"},\"ticker\":{\"id\":\"1018\"}},\"id\":\"1017\",\"type\":\"LinearAxis\"},{\"attributes\":{\"callback\":null,\"tooltips\":[[\"Product\",\"@Product_name\"],[\"Brand\",\"@Brand\"],[\"Category\",\"@Product_type\"]]},\"id\":\"1053\",\"type\":\"HoverTool\"},{\"attributes\":{},\"id\":\"1018\",\"type\":\"BasicTicker\"},{\"attributes\":{},\"id\":\"1009\",\"type\":\"LinearScale\"},{\"attributes\":{\"factors\":[\"Shampoo\",\"Conditioner\",\"Mask\",\"Comb_cream\",\"Gel\",\"Beard\"],\"palette\":[\"#1f77b4\",\"#fda000\",\"#e55171\",\"#44aa99\",\"#332288\",\"#e6a1eb\",\"#0b672a\",\"#f6d740\",\"#bb2aa7\",\"#6ab1d1\",\"#5e0101\",\"#3eba00\"]},\"id\":\"1033\",\"type\":\"CategoricalColorMapper\"},{\"attributes\":{},\"id\":\"1047\",\"type\":\"AllLabels\"},{\"attributes\":{},\"id\":\"1007\",\"type\":\"DataRange1d\"},{\"attributes\":{\"label\":{\"field\":\"Product_type\"},\"renderers\":[{\"id\":\"1038\"}]},\"id\":\"1052\",\"type\":\"LegendItem\"},{\"attributes\":{},\"id\":\"1048\",\"type\":\"UnionRenderers\"},{\"attributes\":{},\"id\":\"1044\",\"type\":\"AllLabels\"},{\"attributes\":{\"tools\":[{\"id\":\"1021\"},{\"id\":\"1022\"},{\"id\":\"1023\"},{\"id\":\"1024\"},{\"id\":\"1025\"},{\"id\":\"1053\"}]},\"id\":\"1027\",\"type\":\"Toolbar\"},{\"attributes\":{\"axis\":{\"id\":\"1017\"},\"coordinates\":null,\"dimension\":1,\"group\":null,\"ticker\":null},\"id\":\"1020\",\"type\":\"Grid\"},{\"attributes\":{},\"id\":\"1046\",\"type\":\"BasicTickFormatter\"},{\"attributes\":{\"bottom_units\":\"screen\",\"coordinates\":null,\"fill_alpha\":0.5,\"fill_color\":\"lightgrey\",\"group\":null,\"left_units\":\"screen\",\"level\":\"overlay\",\"line_alpha\":1.0,\"line_color\":\"black\",\"line_dash\":[4,4],\"line_width\":2,\"right_units\":\"screen\",\"syncable\":false,\"top_units\":\"screen\"},\"id\":\"1026\",\"type\":\"BoxAnnotation\"},{\"attributes\":{},\"id\":\"1005\",\"type\":\"DataRange1d\"},{\"attributes\":{},\"id\":\"1043\",\"type\":\"BasicTickFormatter\"},{\"attributes\":{},\"id\":\"1025\",\"type\":\"ResetTool\"},{\"attributes\":{\"axis_label\":\"X\",\"coordinates\":null,\"formatter\":{\"id\":\"1046\"},\"group\":null,\"major_label_policy\":{\"id\":\"1047\"},\"ticker\":{\"id\":\"1014\"}},\"id\":\"1013\",\"type\":\"LinearAxis\"},{\"attributes\":{\"fill_alpha\":{\"value\":0.2},\"fill_color\":{\"field\":\"Product_type\",\"transform\":{\"id\":\"1033\"}},\"hatch_alpha\":{\"value\":0.2},\"hatch_color\":{\"field\":\"Product_type\",\"transform\":{\"id\":\"1033\"}},\"line_alpha\":{\"value\":0.2},\"line_color\":{\"field\":\"Product_type\",\"transform\":{\"id\":\"1033\"}},\"size\":{\"value\":10},\"x\":{\"field\":\"X\"},\"y\":{\"field\":\"Y\"}},\"id\":\"1037\",\"type\":\"Circle\"}],\"root_ids\":[\"1004\"]},\"title\":\"Bokeh Application\",\"version\":\"2.4.2\"}};\n",
       "  const render_items = [{\"docid\":\"ab37171e-3422-4b5e-b48f-7da79c4fd4bd\",\"root_ids\":[\"1004\"],\"roots\":{\"1004\":\"db6b23a5-1ac6-485b-8988-1ccf4cb6ec38\"}}];\n",
       "  root.Bokeh.embed.embed_items_notebook(docs_json, render_items);\n",
       "\n",
       "  }\n",
       "  if (root.Bokeh !== undefined) {\n",
       "    embed_document(root);\n",
       "  } else {\n",
       "    let attempts = 0;\n",
       "    const timer = setInterval(function(root) {\n",
       "      if (root.Bokeh !== undefined) {\n",
       "        clearInterval(timer);\n",
       "        embed_document(root);\n",
       "      } else {\n",
       "        attempts++;\n",
       "        if (attempts > 100) {\n",
       "          clearInterval(timer);\n",
       "          console.log(\"Bokeh: ERROR: Unable to run BokehJS code because BokehJS library is missing\");\n",
       "        }\n",
       "      }\n",
       "    }, 10, root)\n",
       "  }\n",
       "})(window);"
      ],
      "application/vnd.bokehjs_exec.v0+json": ""
     },
     "metadata": {
      "application/vnd.bokehjs_exec.v0+json": {
       "id": "1004"
      }
     },
     "output_type": "display_data"
    }
   ],
   "source": [
    "cols= [\"#1f77b4\",\"#fda000\",\"#e55171\",\"#44aa99\",\"#332288\",\"#e6a1eb\",\"#0b672a\",\"#f6d740\",\"#bb2aa7\",\"#6ab1d1\",\"#5e0101\",\"#3eba00\"]\n",
    "source = ColumnDataSource(df)\n",
    "\n",
    "def scatter_plot(source):\n",
    "   # Make a source and a scatter plot  \n",
    "   tools = 'pan,wheel_zoom,tap,box_select,reset'\n",
    "   plot = figure(x_axis_label = 'X', \n",
    "               y_axis_label = 'Y', \n",
    "               width = 500, height = 400,tools=tools)\n",
    "\n",
    "   plot.circle(x = 'X', \n",
    "      y = 'Y', \n",
    "      source = source, \n",
    "      size = 10, alpha = .8, legend_field=\"Product_type\",\n",
    "            color=factor_cmap('Product_type', cols, df.Product_type.unique()))\n",
    "\n",
    "   # Create a HoverTool object\n",
    "   hover = HoverTool(tooltips = [('Product', '@Product_name'), \n",
    "                                 ('Brand', '@Brand'), \n",
    "                                 ('Category', '@Product_type')])\n",
    "   plot.add_tools(hover)\n",
    "   plot.width=700\n",
    "   plot.height=500\n",
    "   plot.legend.location = 'bottom_right'\n",
    "   plot.legend.background_fill_alpha = 0.5\n",
    "   plot.legend.border_line_width = 3\n",
    "   return plot\n",
    "\n",
    "# Plot the map\n",
    "plot = scatter_plot(source)\n",
    "show(plot)"
   ]
  },
  {
   "cell_type": "markdown",
   "metadata": {},
   "source": [
    "Interestingly, shampoos and most beard products clearly clump themselves together, separately from all other types of products. All styling products, on the other hand, form ~2 clumps which include conditioners, masks, combing creams and the gel. It also seems that products from the same line tend to cluster together, having very similar ingredients (and making them redundant?).\n",
    "\n",
    "To take this a bit further, let's now make a bokeh server allowing us to select a few products and check what their common and characterizing ingredients are. This will require us to use a bit of set methods."
   ]
  },
  {
   "cell_type": "code",
   "execution_count": 10,
   "metadata": {},
   "outputs": [
    {
     "data": {
      "application/vnd.bokehjs_exec.v0+json": "",
      "text/html": [
       "\n",
       "<script id=\"1121\">\n",
       "  (function() {\n",
       "    const xhr = new XMLHttpRequest()\n",
       "    xhr.responseType = 'blob';\n",
       "    xhr.open('GET', \"http://localhost:51089/autoload.js?bokeh-autoload-element=1121&bokeh-absolute-url=http://localhost:51089&resources=none\", true);\n",
       "    \n",
       "    xhr.onload = function (event) {\n",
       "      const script = document.createElement('script');\n",
       "      const src = URL.createObjectURL(event.target.response);\n",
       "      script.src = src;\n",
       "      document.body.appendChild(script);\n",
       "    };\n",
       "    xhr.send();\n",
       "  })();\n",
       "</script>"
      ]
     },
     "metadata": {
      "application/vnd.bokehjs_exec.v0+json": {
       "server_id": "da4d105b6a3b4aed92c9a720b9f5e2eb"
      }
     },
     "output_type": "display_data"
    }
   ],
   "source": [
    "corpus_set=[set(c) for c in corpus]\n",
    "\n",
    "def ingredients_server(doc):\n",
    "    # set up widgets\n",
    "    title = Div(text='', width_policy='fit')\n",
    "    common_ingr = Div(text='', width_policy='fit')\n",
    "    characterizing_ingr = Div(text='', width_policy='fit')\n",
    "    \n",
    "    # call plot from previous cell\n",
    "    source = ColumnDataSource(df)\n",
    "    plot = scatter_plot(source)\n",
    "    \n",
    "    # add a callback to a widget\n",
    "    def update(selected=None):\n",
    "        title.text = 'Please select some products to compare their ingredients'\n",
    "\n",
    "    def update_ingredients(selected):\n",
    "        #stats.text = str(data[[t1, t2, t1+'_returns', t2+'_returns']].describe())\n",
    "        title.text = '<b>Common ingredients of selected products</b>:'\n",
    "        data = [corpus_set[s] for s in selected]\n",
    "        common_ingredients = set.intersection(*data)\n",
    "        common_ingr.text=str(common_ingredients)\n",
    "        characterizing_ingr.text='<b>Characterizing ingredients of each product</b>:<br>'\n",
    "        for s in selected:\n",
    "            characterizing_ingredients = corpus_set[s].difference(common_ingredients)\n",
    "            characterizing_ingr.text += '<b>'+df.Product_name.iloc[s]+'</b>: '+str(characterizing_ingredients)+'<br>'\n",
    "\n",
    "    def selection_change(attrname, old, new):\n",
    "      selected = source.selected.indices\n",
    "      if selected:\n",
    "         update_ingredients(selected)\n",
    "      else:\n",
    "         title.text = 'No products selected'\n",
    "         common_ingr = ''\n",
    "         characterizing_ingr.text = ''\n",
    "\n",
    "    source.selected.on_change('indices', selection_change)\n",
    "\n",
    "    # create a layout for everything\n",
    "    text_col=column(title,common_ingr,characterizing_ingr)\n",
    "    layout = row(plot,text_col)\n",
    "    \n",
    "    # initialize\n",
    "    update()\n",
    "\n",
    "    # add the layout to curdoc\n",
    "    doc.add_root(layout)\n",
    "    \n",
    "# In the notebook, just pass the function that defines the app to show\n",
    "# You may need to supply notebook_url, e.g notebook_url=\"http://localhost:8889\" \n",
    "show(ingredients_server) "
   ]
  },
  {
   "cell_type": "markdown",
   "metadata": {},
   "source": [
    "By selecting conditioner and mask from the same line, when they are very close, we can see that their list of ingredients is extremely similar.\n",
    "\n",
    "As I'm not a specialist in this area I can't say if this small difference is still substantial, but I do believe that they must have a very similar effect on the hair, as they both have the same \"active ingredients\" (such as oils/proteins/extracts/etc), but they have a different use, which could be due to e.g. a PH difference."
   ]
  },
  {
   "cell_type": "code",
   "execution_count": null,
   "metadata": {},
   "outputs": [],
   "source": []
  }
 ],
 "metadata": {
  "interpreter": {
   "hash": "6067fc556842890f4928ceeea3b388f13014beab3002c691eab5d85bd1078b05"
  },
  "kernelspec": {
   "display_name": "Python 3 (ipykernel)",
   "language": "python",
   "name": "python3"
  },
  "language_info": {
   "codemirror_mode": {
    "name": "ipython",
    "version": 3
   },
   "file_extension": ".py",
   "mimetype": "text/x-python",
   "name": "python",
   "nbconvert_exporter": "python",
   "pygments_lexer": "ipython3",
   "version": "3.9.10"
  }
 },
 "nbformat": 4,
 "nbformat_minor": 4
}
