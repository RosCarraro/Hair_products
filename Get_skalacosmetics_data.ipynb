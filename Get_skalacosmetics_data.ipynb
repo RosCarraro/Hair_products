{
 "cells": [
  {
   "cell_type": "markdown",
   "metadata": {},
   "source": [
    "# Getting Skala products ingredient lists\n",
    "This notebook will lookup for Skala cosmetics products ingredient lists and save them to a file so that they can be later analyzed (see `\"hair_products_classification.ipynb\"`).\n",
    "\n",
    "The web pages of the hair products will be retrieved by using `requests` and then the useful information will be extracted with the help of `beautiful soup` and saved into a dataframe. Products are further divided in categories such as \"shampoo\", \"conditioner\", etc. and finally the dataframe is saved to a file."
   ]
  },
  {
   "cell_type": "markdown",
   "metadata": {},
   "source": [
    "First, we do all relevant imports and set up an empty dataframe for all the products' info."
   ]
  },
  {
   "cell_type": "code",
   "execution_count": 2,
   "metadata": {},
   "outputs": [],
   "source": [
    "import bs4\n",
    "import urllib.request\n",
    "import pandas as pd\n",
    "import requests\n",
    "import numpy as np\n",
    "#import re"
   ]
  },
  {
   "cell_type": "code",
   "execution_count": 3,
   "metadata": {},
   "outputs": [],
   "source": [
    "columns=['Brand','Product_name','Ingredients']\n",
    "products_df=pd.DataFrame(columns=columns)"
   ]
  },
  {
   "cell_type": "code",
   "execution_count": 4,
   "metadata": {},
   "outputs": [],
   "source": [
    "#def get_ingredients(raw_ingredients):\n",
    "   #raw_ingredients=soup.find(id=\"produto-texto-composicao\").string\n",
    "#   ingredients=re.sub('\\s{2,}',' ',raw_ingredients)\n",
    "#   ingredients=re.sub('\\.|\\\\\\\\[a-zA-Z]','',ingredients) \n",
    "#   ingredients_lower = ingredients.lower()\n",
    "#   ingredients_list=ingredients_lower.split(',') # tokenize ingredients\n",
    "#   ingredients_list=[re.sub('^[ \\t]+|[ \\t]+$','',ing) for ing in ingredients_list]\n",
    "#   return ingredients_list"
   ]
  },
  {
   "cell_type": "markdown",
   "metadata": {},
   "source": [
    "By examining the website html we found the page where the products are listed. This page can show different categories of products based on use, line, needs, etc. We only set the category to 1, which refers to hair products.\n",
    "\n",
    "The product list is also divided in pages, which are sequentially loaded upon the user's request, so we need to perform a while loop to get the entire list and not just the very first part.\n",
    "\n",
    "From this product list page we save only the links to the individual product pages, where we are going to look for their ingredients. The links are repeated multiple times in the page, so we transform our link list to a dictionary in order to remove duplicates."
   ]
  },
  {
   "cell_type": "code",
   "execution_count": 5,
   "metadata": {},
   "outputs": [],
   "source": [
    "# the product list is divided in pages, so I need to loop on all of them to get the entire list\n",
    "products_page = \"https://www.skala.com.br/listaProdutos.php\"\n",
    "#webpage=str(urllib.request.urlopen(products_page).read())\n",
    "data = { 'pagina': 1, \n",
    "         'codigoLinha': 0,\n",
    "\t\t\t'codigoGrupo': 0,\n",
    "\t\t\t'codigoCategoria': 1,\n",
    "\t\t\t'codigoTipoCabelo': 0,\n",
    "\t\t}\n",
    "scroll=True\n",
    "html=''\n",
    "while scroll==True:\n",
    "   #webpage=str(urllib.request.urlopen(products_page).read())\n",
    "   r = requests.get(products_page,params=data)\n",
    "   data['pagina']=data['pagina']+1\n",
    "   if r.text=='0':\n",
    "      scroll=False\n",
    "   else:\n",
    "      html+=r.text\n",
    "\n",
    "soup = bs4.BeautifulSoup(html)\n",
    "#print(soup.get_text())\n",
    "\n",
    "# extract all links and remove duplicates passing through a dictionary\n",
    "links=list(dict.fromkeys([l.get('href') for l in soup.find_all('a')]))"
   ]
  },
  {
   "cell_type": "markdown",
   "metadata": {},
   "source": [
    "Now we enter each product page and with the help of `beautiful soup` we look for the product name, its brand and its ingredients (\"produto-texto-composicao\"). We save this info into our dataframe."
   ]
  },
  {
   "cell_type": "code",
   "execution_count": 6,
   "metadata": {},
   "outputs": [
    {
     "data": {
      "text/html": [
       "<div>\n",
       "<style scoped>\n",
       "    .dataframe tbody tr th:only-of-type {\n",
       "        vertical-align: middle;\n",
       "    }\n",
       "\n",
       "    .dataframe tbody tr th {\n",
       "        vertical-align: top;\n",
       "    }\n",
       "\n",
       "    .dataframe thead th {\n",
       "        text-align: right;\n",
       "    }\n",
       "</style>\n",
       "<table border=\"1\" class=\"dataframe\">\n",
       "  <thead>\n",
       "    <tr style=\"text-align: right;\">\n",
       "      <th></th>\n",
       "      <th>Brand</th>\n",
       "      <th>Product_name</th>\n",
       "      <th>Ingredients</th>\n",
       "    </tr>\n",
       "  </thead>\n",
       "  <tbody>\n",
       "    <tr>\n",
       "      <th>0</th>\n",
       "      <td>Skala Cosm\\xe9ticos</td>\n",
       "      <td>Shampoo Shampoo Camomila</td>\n",
       "      <td>\\r\\n                Aqua, Sodium Methyl 2-Sulf...</td>\n",
       "    </tr>\n",
       "    <tr>\n",
       "      <th>1</th>\n",
       "      <td>Skala Cosm\\xe9ticos</td>\n",
       "      <td>Shampoo Skala Genetiqs</td>\n",
       "      <td>\\r\\n                Aqua, Sodium Laureth Sulfa...</td>\n",
       "    </tr>\n",
       "    <tr>\n",
       "      <th>2</th>\n",
       "      <td>Skala Cosm\\xe9ticos</td>\n",
       "      <td>Shampoo #MaisLisos</td>\n",
       "      <td>\\r\\n                Aqua, Sodium Laureth Sulfa...</td>\n",
       "    </tr>\n",
       "    <tr>\n",
       "      <th>3</th>\n",
       "      <td>Skala Cosm\\xe9ticos</td>\n",
       "      <td>Shampoo Abacate</td>\n",
       "      <td>\\r\\n                Aqua, Sodium Laureth Sulfa...</td>\n",
       "    </tr>\n",
       "    <tr>\n",
       "      <th>4</th>\n",
       "      <td>Skala Cosm\\xe9ticos</td>\n",
       "      <td>Shampoo Crespinho Divino</td>\n",
       "      <td>\\r\\n                Aqua, Sodium Methyl 2-Sulf...</td>\n",
       "    </tr>\n",
       "  </tbody>\n",
       "</table>\n",
       "</div>"
      ],
      "text/plain": [
       "                 Brand              Product_name  \\\n",
       "0  Skala Cosm\\xe9ticos  Shampoo Shampoo Camomila   \n",
       "1  Skala Cosm\\xe9ticos    Shampoo Skala Genetiqs   \n",
       "2  Skala Cosm\\xe9ticos        Shampoo #MaisLisos   \n",
       "3  Skala Cosm\\xe9ticos           Shampoo Abacate   \n",
       "4  Skala Cosm\\xe9ticos  Shampoo Crespinho Divino   \n",
       "\n",
       "                                         Ingredients  \n",
       "0  \\r\\n                Aqua, Sodium Methyl 2-Sulf...  \n",
       "1  \\r\\n                Aqua, Sodium Laureth Sulfa...  \n",
       "2  \\r\\n                Aqua, Sodium Laureth Sulfa...  \n",
       "3  \\r\\n                Aqua, Sodium Laureth Sulfa...  \n",
       "4  \\r\\n                Aqua, Sodium Methyl 2-Sulf...  "
      ]
     },
     "execution_count": 6,
     "metadata": {},
     "output_type": "execute_result"
    }
   ],
   "source": [
    "for i,link in enumerate(links):\n",
    "   #print(link.get('href'))\n",
    "   webpage=str(urllib.request.urlopen(link).read())\n",
    "   soup = bs4.BeautifulSoup(webpage)\n",
    "\n",
    "   title=soup.title.string.split(' - ')\n",
    "   brand=title[1]\n",
    "   product_name=title[0]\n",
    "   \n",
    "   ingredients_string=soup.find(id=\"produto-texto-composicao\").string\n",
    "   if ingredients_string is not None:\n",
    "      #ingredients=get_ingredients(ingredients_string) #pandas doesn't like lists\n",
    "      ingredients=ingredients_string\n",
    "   else:\n",
    "      continue\n",
    "\n",
    "   product_series=pd.DataFrame([[brand,product_name,ingredients]],columns=columns)\n",
    "   products_df=pd.concat([products_df,product_series], ignore_index=True, axis = 0)\n",
    "\n",
    "products_df.head()"
   ]
  },
  {
   "cell_type": "markdown",
   "metadata": {},
   "source": [
    "Based on the product name string we are able to assign each of them a category, so we add relevant columns to the dataframe with this information."
   ]
  },
  {
   "cell_type": "code",
   "execution_count": 14,
   "metadata": {},
   "outputs": [
    {
     "data": {
      "text/html": [
       "<div>\n",
       "<style scoped>\n",
       "    .dataframe tbody tr th:only-of-type {\n",
       "        vertical-align: middle;\n",
       "    }\n",
       "\n",
       "    .dataframe tbody tr th {\n",
       "        vertical-align: top;\n",
       "    }\n",
       "\n",
       "    .dataframe thead th {\n",
       "        text-align: right;\n",
       "    }\n",
       "</style>\n",
       "<table border=\"1\" class=\"dataframe\">\n",
       "  <thead>\n",
       "    <tr style=\"text-align: right;\">\n",
       "      <th></th>\n",
       "      <th>Brand</th>\n",
       "      <th>Product_name</th>\n",
       "      <th>Ingredients</th>\n",
       "      <th>Shampoo</th>\n",
       "      <th>Conditioner</th>\n",
       "      <th>Mask</th>\n",
       "      <th>Comb_cream</th>\n",
       "      <th>Gel</th>\n",
       "      <th>Beard</th>\n",
       "      <th>Product_type</th>\n",
       "    </tr>\n",
       "  </thead>\n",
       "  <tbody>\n",
       "    <tr>\n",
       "      <th>0</th>\n",
       "      <td>Skala Cosm\\xe9ticos</td>\n",
       "      <td>Shampoo Shampoo Camomila</td>\n",
       "      <td>\\r\\n                Aqua, Sodium Methyl 2-Sulf...</td>\n",
       "      <td>True</td>\n",
       "      <td>False</td>\n",
       "      <td>False</td>\n",
       "      <td>False</td>\n",
       "      <td>False</td>\n",
       "      <td>False</td>\n",
       "      <td>Shampoo</td>\n",
       "    </tr>\n",
       "    <tr>\n",
       "      <th>1</th>\n",
       "      <td>Skala Cosm\\xe9ticos</td>\n",
       "      <td>Shampoo Skala Genetiqs</td>\n",
       "      <td>\\r\\n                Aqua, Sodium Laureth Sulfa...</td>\n",
       "      <td>True</td>\n",
       "      <td>False</td>\n",
       "      <td>False</td>\n",
       "      <td>False</td>\n",
       "      <td>False</td>\n",
       "      <td>False</td>\n",
       "      <td>Shampoo</td>\n",
       "    </tr>\n",
       "    <tr>\n",
       "      <th>2</th>\n",
       "      <td>Skala Cosm\\xe9ticos</td>\n",
       "      <td>Shampoo #MaisLisos</td>\n",
       "      <td>\\r\\n                Aqua, Sodium Laureth Sulfa...</td>\n",
       "      <td>True</td>\n",
       "      <td>False</td>\n",
       "      <td>False</td>\n",
       "      <td>False</td>\n",
       "      <td>False</td>\n",
       "      <td>False</td>\n",
       "      <td>Shampoo</td>\n",
       "    </tr>\n",
       "    <tr>\n",
       "      <th>3</th>\n",
       "      <td>Skala Cosm\\xe9ticos</td>\n",
       "      <td>Shampoo Abacate</td>\n",
       "      <td>\\r\\n                Aqua, Sodium Laureth Sulfa...</td>\n",
       "      <td>True</td>\n",
       "      <td>False</td>\n",
       "      <td>False</td>\n",
       "      <td>False</td>\n",
       "      <td>False</td>\n",
       "      <td>False</td>\n",
       "      <td>Shampoo</td>\n",
       "    </tr>\n",
       "    <tr>\n",
       "      <th>4</th>\n",
       "      <td>Skala Cosm\\xe9ticos</td>\n",
       "      <td>Shampoo Crespinho Divino</td>\n",
       "      <td>\\r\\n                Aqua, Sodium Methyl 2-Sulf...</td>\n",
       "      <td>True</td>\n",
       "      <td>False</td>\n",
       "      <td>False</td>\n",
       "      <td>False</td>\n",
       "      <td>False</td>\n",
       "      <td>False</td>\n",
       "      <td>Shampoo</td>\n",
       "    </tr>\n",
       "  </tbody>\n",
       "</table>\n",
       "</div>"
      ],
      "text/plain": [
       "                 Brand              Product_name  \\\n",
       "0  Skala Cosm\\xe9ticos  Shampoo Shampoo Camomila   \n",
       "1  Skala Cosm\\xe9ticos    Shampoo Skala Genetiqs   \n",
       "2  Skala Cosm\\xe9ticos        Shampoo #MaisLisos   \n",
       "3  Skala Cosm\\xe9ticos           Shampoo Abacate   \n",
       "4  Skala Cosm\\xe9ticos  Shampoo Crespinho Divino   \n",
       "\n",
       "                                         Ingredients  Shampoo  Conditioner  \\\n",
       "0  \\r\\n                Aqua, Sodium Methyl 2-Sulf...     True        False   \n",
       "1  \\r\\n                Aqua, Sodium Laureth Sulfa...     True        False   \n",
       "2  \\r\\n                Aqua, Sodium Laureth Sulfa...     True        False   \n",
       "3  \\r\\n                Aqua, Sodium Laureth Sulfa...     True        False   \n",
       "4  \\r\\n                Aqua, Sodium Methyl 2-Sulf...     True        False   \n",
       "\n",
       "    Mask  Comb_cream    Gel  Beard Product_type  \n",
       "0  False       False  False  False      Shampoo  \n",
       "1  False       False  False  False      Shampoo  \n",
       "2  False       False  False  False      Shampoo  \n",
       "3  False       False  False  False      Shampoo  \n",
       "4  False       False  False  False      Shampoo  "
      ]
     },
     "execution_count": 14,
     "metadata": {},
     "output_type": "execute_result"
    }
   ],
   "source": [
    "# assign product category\n",
    "categories={'Shampoo':'shampoo','Conditioner':'condicionador','Mask':'creme de tratamento','Comb_cream':'creme para pentear','Gel':'gel','Beard':'barba'}\n",
    "products_df['Product_type']=np.nan\n",
    "\n",
    "for key,value in categories.items():\n",
    "   products_df[key]=[True if value in p_name.lower() else False for p_name in products_df.Product_name]\n",
    "   products_df.loc[products_df[key]==True,'Product_type']=key\n",
    "\n",
    "products_df.head()"
   ]
  },
  {
   "cell_type": "markdown",
   "metadata": {},
   "source": [
    "Finally we save the dataframe to a file, which we are going to read and analyse in the `\"hair_products_classification.ipynb\"` notebook and get interesting insight on the composition of the products."
   ]
  },
  {
   "cell_type": "code",
   "execution_count": 9,
   "metadata": {},
   "outputs": [],
   "source": [
    "products_df.to_csv('datasets/Skala_hair_products.csv')"
   ]
  }
 ],
 "metadata": {
  "interpreter": {
   "hash": "6067fc556842890f4928ceeea3b388f13014beab3002c691eab5d85bd1078b05"
  },
  "kernelspec": {
   "display_name": "Python 3.9.10 ('base2')",
   "language": "python",
   "name": "python3"
  },
  "language_info": {
   "codemirror_mode": {
    "name": "ipython",
    "version": 3
   },
   "file_extension": ".py",
   "mimetype": "text/x-python",
   "name": "python",
   "nbconvert_exporter": "python",
   "pygments_lexer": "ipython3",
   "version": "3.9.10"
  },
  "orig_nbformat": 4
 },
 "nbformat": 4,
 "nbformat_minor": 2
}
